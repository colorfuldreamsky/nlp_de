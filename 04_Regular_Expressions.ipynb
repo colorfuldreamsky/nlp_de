{
 "cells": [
  {
   "cell_type": "markdown",
   "metadata": {},
   "source": [
    "# Regular expressions\n",
    "\n",
    "Regular expression are a commonly used solution for many text processing tasks. In many cases regexp can be also used in NLP or even instead of using NLP methods. Let's take a look at the most popular use cases of regular expressions methods. Before we start with the examples, let's define a simple method that prints the results."
   ]
  },
  {
   "cell_type": "code",
   "execution_count": 76,
   "metadata": {},
   "outputs": [],
   "source": [
    "def log_if_found(result,pattern,example):\n",
    "    if result:\n",
    "        print(\"Pattern: \" +str(pattern) + \" on string: \"+str(example)+\": Found\")\n",
    "    else:\n",
    "        print(\"Pattern: \" +str(pattern) + \" on string: \"+str(example)+\": Not found\")"
   ]
  },
  {
   "cell_type": "markdown",
   "metadata": {},
   "source": [
    "# Basics\n",
    "\n",
    "Before we start we should import regexp in Python with the code below. In this section we go through the most basic methods used in regexp."
   ]
  },
  {
   "cell_type": "code",
   "execution_count": 77,
   "metadata": {},
   "outputs": [],
   "source": [
    "import re"
   ]
  },
  {
   "cell_type": "markdown",
   "metadata": {},
   "source": [
    "## Multiline\n",
    "\n",
    "We can easily parse multiline text with ``re.MULTILINE`` option."
   ]
  },
  {
   "cell_type": "code",
   "execution_count": 78,
   "metadata": {},
   "outputs": [
    {
     "name": "stdout",
     "output_type": "stream",
     "text": [
      "Pattern: cc on string: abcd\n",
      "cc\n",
      " abcd: Found\n"
     ]
    }
   ],
   "source": [
    "pattern = \"cc\"\n",
    "example = \"abcd\\ncc\\n abcd\"\n",
    "regexp = re.compile(pattern,re.MULTILINE)\n",
    "log_if_found(regexp.search(example), pattern, example)"
   ]
  },
  {
   "cell_type": "markdown",
   "metadata": {},
   "source": [
    "## Dotall\n",
    "\n",
    "Dot is a special character in regular expressions and matches any character except a newline. The ``DOTALL`` option include the newline in the dot."
   ]
  },
  {
   "cell_type": "code",
   "execution_count": 80,
   "metadata": {},
   "outputs": [
    {
     "name": "stdout",
     "output_type": "stream",
     "text": [
      "Pattern: c.c on string: c\n",
      "c: Found\n"
     ]
    }
   ],
   "source": [
    "pattern = \"c.c\"\n",
    "example = \"c\\nc\"\n",
    "regexp = re.compile(pattern,re.DOTALL)\n",
    "log_if_found(regexp.search(example), pattern, example)"
   ]
  },
  {
   "cell_type": "markdown",
   "metadata": {},
   "source": [
    "## Debug\n",
    "\n",
    "Using the ``re.DEBUG`` option, we know exaclty the steps that were made during the parsing. 99 stands for the ordinal representation in Python of letter c."
   ]
  },
  {
   "cell_type": "code",
   "execution_count": 81,
   "metadata": {},
   "outputs": [
    {
     "name": "stdout",
     "output_type": "stream",
     "text": [
      "LITERAL 99\n",
      "LITERAL 99\n",
      "Pattern: cc on string: cc: Found\n"
     ]
    }
   ],
   "source": [
    "pattern = \"cc\"\n",
    "example = \"cc\"\n",
    "regexp = re.compile(pattern,re.DEBUG)\n",
    "log_if_found(regexp.search(example), pattern, example)\n"
   ]
  },
  {
   "cell_type": "markdown",
   "metadata": {},
   "source": [
    "## Ignore case sensitive\n",
    "\n",
    "We can also ignore case sensitivity with ``IGNORECASE`` option."
   ]
  },
  {
   "cell_type": "code",
   "execution_count": 82,
   "metadata": {},
   "outputs": [
    {
     "name": "stdout",
     "output_type": "stream",
     "text": [
      "Pattern: cc on string: CC: Found\n"
     ]
    }
   ],
   "source": [
    "pattern = \"cc\"\n",
    "example = \"CC\"\n",
    "regexp = re.compile(pattern,re.IGNORECASE)\n",
    "log_if_found(regexp.search(example), pattern, example)"
   ]
  },
  {
   "cell_type": "markdown",
   "metadata": {},
   "source": [
    "## Unicode\n",
    "\n",
    "We can easily handle also unicode text. This option isn't so useful anymore like in Python 2."
   ]
  },
  {
   "cell_type": "code",
   "execution_count": 83,
   "metadata": {},
   "outputs": [
    {
     "name": "stdout",
     "output_type": "stream",
     "text": [
      "Pattern: \\w on string: CC: Found\n"
     ]
    }
   ],
   "source": [
    "pattern = \"\\w\"\n",
    "example = u\"CC\"\n",
    "regexp = re.compile(pattern,re.UNICODE)\n",
    "log_if_found(regexp.search(example), pattern, example)"
   ]
  },
  {
   "cell_type": "markdown",
   "metadata": {},
   "source": [
    "# Methods\n",
    "\n",
    "In this section we go through the regexp methods."
   ]
  },
  {
   "cell_type": "markdown",
   "metadata": {},
   "source": [
    "## Match\n",
    "\n",
    "Match checks if there the pattern match the given text. If a match is found it returns a true value."
   ]
  },
  {
   "cell_type": "code",
   "execution_count": 84,
   "metadata": {},
   "outputs": [
    {
     "name": "stdout",
     "output_type": "stream",
     "text": [
      "Pattern: abcd on string: abcd: Found\n"
     ]
    }
   ],
   "source": [
    "example=\"abcd\"\n",
    "pattern='abcd' #/abcd/\n",
    "regexp=re.compile(pattern)\n",
    "log_if_found(regexp.match(example), pattern, example)"
   ]
  },
  {
   "cell_type": "markdown",
   "metadata": {},
   "source": [
    "## Findall\n",
    "\n",
    "Findall method returns all matching patterns in the text. We can even get the starting and ending position of the match."
   ]
  },
  {
   "cell_type": "code",
   "execution_count": 85,
   "metadata": {},
   "outputs": [
    {
     "name": "stdout",
     "output_type": "stream",
     "text": [
      "Pattern: ab on string: abcd: Found\n"
     ]
    }
   ],
   "source": [
    "pattern='ab'\n",
    "log_if_found(re.findall(pattern,example), pattern, example)"
   ]
  },
  {
   "cell_type": "code",
   "execution_count": 86,
   "metadata": {},
   "outputs": [
    {
     "name": "stdout",
     "output_type": "stream",
     "text": [
      "Pattern: ab on string: abcd: Found\n",
      "Start: 0\n",
      "End: 2\n"
     ]
    }
   ],
   "source": [
    "regexp=re.compile(pattern)\n",
    "log_if_found(regexp.findall(example), pattern, example)\n",
    "print(\"Start: \"+ str(regexp.search(example).start()))\n",
    "print(\"End: \" + str(regexp.search(example).end()))"
   ]
  },
  {
   "cell_type": "markdown",
   "metadata": {},
   "source": [
    "## Finditer\n",
    "\n",
    "Finditer works like findall, but returns an iterator."
   ]
  },
  {
   "cell_type": "code",
   "execution_count": 87,
   "metadata": {},
   "outputs": [
    {
     "name": "stdout",
     "output_type": "stream",
     "text": [
      "ab\n",
      "ab\n",
      "ab\n",
      "ab\n"
     ]
    }
   ],
   "source": [
    "example=\"abababab\"\n",
    "iter = re.finditer(pattern,example)\n",
    "for i in iter:\n",
    "    print(i.group())"
   ]
  },
  {
   "cell_type": "markdown",
   "metadata": {},
   "source": [
    "## Split\n",
    "\n",
    "Similar to the string split method."
   ]
  },
  {
   "cell_type": "code",
   "execution_count": 88,
   "metadata": {},
   "outputs": [
    {
     "name": "stdout",
     "output_type": "stream",
     "text": [
      "['c', 'c', 'c', 'c', 'c']\n"
     ]
    }
   ],
   "source": [
    "example=\"cabcabcabcabc\"\n",
    "print(re.split(pattern,example))"
   ]
  },
  {
   "cell_type": "markdown",
   "metadata": {},
   "source": [
    "## Escape\n",
    "\n",
    "Escapes the whitespaces and other characters that are not alphanumerical."
   ]
  },
  {
   "cell_type": "code",
   "execution_count": 89,
   "metadata": {},
   "outputs": [
    {
     "name": "stdout",
     "output_type": "stream",
     "text": [
      "ab\\ cd\\ ef\\ gh\n"
     ]
    }
   ],
   "source": [
    "example = \"ab cd ef gh\"\n",
    "print(re.escape(example))"
   ]
  },
  {
   "cell_type": "markdown",
   "metadata": {},
   "source": [
    "## Sub\n",
    "\n",
    "Replace each occuriency of match."
   ]
  },
  {
   "cell_type": "code",
   "execution_count": 90,
   "metadata": {},
   "outputs": [
    {
     "name": "stdout",
     "output_type": "stream",
     "text": [
      "ccccccccccccc\n"
     ]
    }
   ],
   "source": [
    "replace=\"cc\"\n",
    "example=\"cabcabcabcabc\"\n",
    "print(re.sub(pattern,replace,example))"
   ]
  },
  {
   "cell_type": "markdown",
   "metadata": {},
   "source": [
    "## Match vs. Findall\n",
    "\n",
    "Match doesn't found pattern like in the example below."
   ]
  },
  {
   "cell_type": "code",
   "execution_count": 91,
   "metadata": {},
   "outputs": [
    {
     "name": "stdout",
     "output_type": "stream",
     "text": [
      "Pattern: cc on string:  cc: Not found\n"
     ]
    }
   ],
   "source": [
    "pattern=\"cc\"\n",
    "example=\" cc\"\n",
    "regexp = re.compile(pattern)\n",
    "log_if_found(regexp.match(example), pattern, example)"
   ]
  },
  {
   "cell_type": "code",
   "execution_count": 93,
   "metadata": {},
   "outputs": [
    {
     "name": "stdout",
     "output_type": "stream",
     "text": [
      "Pattern: cccc on string:  cccc: Found\n"
     ]
    }
   ],
   "source": [
    "pattern=\"cccc\"\n",
    "example=\" cccc\"\n",
    "log_if_found(re.match(pattern, example[1:]), pattern, example)"
   ]
  },
  {
   "cell_type": "markdown",
   "metadata": {},
   "source": [
    "## Expand\n",
    "\n",
    "Replace the text in the text with the pattern with the expanding pattern."
   ]
  },
  {
   "cell_type": "code",
   "execution_count": 96,
   "metadata": {},
   "outputs": [
    {
     "name": "stdout",
     "output_type": "stream",
     "text": [
      "<b>world<\\b>\n"
     ]
    }
   ],
   "source": [
    "pattern=r'\\*(.*?)\\*'\n",
    "example=\"imagine a new *world*, a magic *world*\"\n",
    "result = re.search(pattern, example)\n",
    "print(result.expand(r\"<b>\\g<1><\\\\b>\"))"
   ]
  },
  {
   "cell_type": "markdown",
   "metadata": {},
   "source": [
    "# Meta\n",
    "\n",
    "Meta characters are special characters that allow to find the pattern more precisely."
   ]
  },
  {
   "cell_type": "markdown",
   "metadata": {},
   "source": [
    "## Asterisk\n",
    "\n",
    "Asterisk means 0 or more occurencies."
   ]
  },
  {
   "cell_type": "code",
   "execution_count": 97,
   "metadata": {},
   "outputs": [
    {
     "name": "stdout",
     "output_type": "stream",
     "text": [
      "Pattern: abc* on string: abc: Found\n"
     ]
    }
   ],
   "source": [
    "pattern = \"abc*\"\n",
    "example = \"abc\"\n",
    "regexp = re.compile(pattern)\n",
    "log_if_found(regexp.findall(example), pattern, example)"
   ]
  },
  {
   "cell_type": "code",
   "execution_count": 98,
   "metadata": {},
   "outputs": [
    {
     "name": "stdout",
     "output_type": "stream",
     "text": [
      "Pattern: abc* on string: abcccc: Found\n"
     ]
    }
   ],
   "source": [
    "pattern = \"abc*\"\n",
    "example = \"abcccc\"\n",
    "regexp = re.compile(pattern)\n",
    "log_if_found(regexp.findall(example), pattern, example)"
   ]
  },
  {
   "cell_type": "code",
   "execution_count": 99,
   "metadata": {},
   "outputs": [
    {
     "name": "stdout",
     "output_type": "stream",
     "text": [
      "Pattern: abc* on string: abcdddeds: Found\n"
     ]
    }
   ],
   "source": [
    "pattern = \"abc*\"\n",
    "example = \"abcdddeds\"\n",
    "regexp = re.compile(pattern)\n",
    "log_if_found(regexp.findall(example), pattern, example)"
   ]
  },
  {
   "cell_type": "markdown",
   "metadata": {},
   "source": [
    "## Backslash\n",
    "\n",
    "Backslash is used as an escape character."
   ]
  },
  {
   "cell_type": "code",
   "execution_count": 100,
   "metadata": {},
   "outputs": [
    {
     "name": "stdout",
     "output_type": "stream",
     "text": [
      "Pattern: \\\\ on string: \\author: Found\n"
     ]
    }
   ],
   "source": [
    "pattern = \"\\\\\\\\\"\n",
    "example = \"\\\\author\"\n",
    "regexp = re.compile(pattern)\n",
    "log_if_found(regexp.findall(example), pattern, example)"
   ]
  },
  {
   "cell_type": "code",
   "execution_count": 101,
   "metadata": {},
   "outputs": [
    {
     "name": "stdout",
     "output_type": "stream",
     "text": [
      "Pattern: \\bfoo\\b on string: foo: Found\n"
     ]
    }
   ],
   "source": [
    "pattern = r'\\bfoo\\b'\n",
    "example = \"foo\"\n",
    "regexp=re.compile(pattern)\n",
    "log_if_found(regexp.search(example), pattern, example)"
   ]
  },
  {
   "cell_type": "code",
   "execution_count": 102,
   "metadata": {},
   "outputs": [
    {
     "name": "stdout",
     "output_type": "stream",
     "text": [
      "Pattern: \\bfoo\\b on string: foo bar: Found\n"
     ]
    }
   ],
   "source": [
    "example = \"foo bar\"\n",
    "regexp=re.compile(pattern)\n",
    "log_if_found(regexp.search(example), pattern, example)"
   ]
  },
  {
   "cell_type": "code",
   "execution_count": 103,
   "metadata": {},
   "outputs": [
    {
     "name": "stdout",
     "output_type": "stream",
     "text": [
      "Pattern: \\bfoo\\b on string: bar foo bar: Found\n"
     ]
    }
   ],
   "source": [
    "example = 'bar foo bar'\n",
    "regexp=re.compile(pattern)\n",
    "log_if_found(regexp.search(example), pattern, example)"
   ]
  },
  {
   "cell_type": "code",
   "execution_count": 104,
   "metadata": {},
   "outputs": [
    {
     "name": "stdout",
     "output_type": "stream",
     "text": [
      "Pattern: \\bfoo\\b on string: barfoobar: Not found\n"
     ]
    }
   ],
   "source": [
    "example = 'barfoobar'\n",
    "regexp=re.compile(pattern)\n",
    "log_if_found(regexp.search(example), pattern, example)"
   ]
  },
  {
   "cell_type": "markdown",
   "metadata": {},
   "source": [
    "## Caret ^\n",
    "\n",
    "Caret means starts from."
   ]
  },
  {
   "cell_type": "code",
   "execution_count": 105,
   "metadata": {},
   "outputs": [
    {
     "name": "stdout",
     "output_type": "stream",
     "text": [
      "Pattern: ^foo on string: foo bar: Found\n"
     ]
    }
   ],
   "source": [
    "pattern = r'^foo'\n",
    "example = 'foo bar'\n",
    "regexp=re.compile(pattern)\n",
    "log_if_found(regexp.search(example), pattern, example)"
   ]
  },
  {
   "cell_type": "code",
   "execution_count": 106,
   "metadata": {},
   "outputs": [
    {
     "name": "stdout",
     "output_type": "stream",
     "text": [
      "Pattern: ^foo on string: bar foo: Not found\n"
     ]
    }
   ],
   "source": [
    "example = 'bar foo'\n",
    "regexp=re.compile(pattern)\n",
    "log_if_found(regexp.search(example), pattern, example)"
   ]
  },
  {
   "cell_type": "markdown",
   "metadata": {},
   "source": [
    "## Dolar\n",
    "\n",
    "Ends with."
   ]
  },
  {
   "cell_type": "code",
   "execution_count": 107,
   "metadata": {},
   "outputs": [
    {
     "name": "stdout",
     "output_type": "stream",
     "text": [
      "Pattern: foo$ on string: foo bar: Not found\n"
     ]
    }
   ],
   "source": [
    "pattern = r'foo$'\n",
    "example = 'foo bar'\n",
    "regexp=re.compile(pattern)\n",
    "log_if_found(regexp.search(example), pattern, example)"
   ]
  },
  {
   "cell_type": "code",
   "execution_count": 108,
   "metadata": {},
   "outputs": [
    {
     "name": "stdout",
     "output_type": "stream",
     "text": [
      "Pattern: foo$ on string: bar foo: Found\n"
     ]
    }
   ],
   "source": [
    "example = 'bar foo'\n",
    "regexp=re.compile(pattern)\n",
    "log_if_found(regexp.search(example), pattern, example)"
   ]
  },
  {
   "cell_type": "markdown",
   "metadata": {},
   "source": [
    "## Dot\n",
    "\n",
    "Match any character."
   ]
  },
  {
   "cell_type": "code",
   "execution_count": 109,
   "metadata": {},
   "outputs": [
    {
     "name": "stdout",
     "output_type": "stream",
     "text": [
      "Pattern: f.o on string: foo: Found\n"
     ]
    }
   ],
   "source": [
    "pattern = r'f.o'\n",
    "example = 'foo'\n",
    "regexp=re.compile(pattern)\n",
    "log_if_found(regexp.search(example), pattern, example)"
   ]
  },
  {
   "cell_type": "code",
   "execution_count": 110,
   "metadata": {},
   "outputs": [
    {
     "name": "stdout",
     "output_type": "stream",
     "text": [
      "Pattern: f.o on string: fbo: Found\n"
     ]
    }
   ],
   "source": [
    "example = 'fbo'\n",
    "regexp=re.compile(pattern)\n",
    "log_if_found(regexp.search(example), pattern, example)"
   ]
  },
  {
   "cell_type": "code",
   "execution_count": 111,
   "metadata": {},
   "outputs": [
    {
     "name": "stdout",
     "output_type": "stream",
     "text": [
      "Pattern: f.o on string: fbbo: Not found\n"
     ]
    }
   ],
   "source": [
    "example = 'fbbo'\n",
    "regexp=re.compile(pattern)\n",
    "log_if_found(regexp.search(example), pattern, example)"
   ]
  },
  {
   "cell_type": "markdown",
   "metadata": {},
   "source": [
    "## Pipe\n",
    "\n",
    "Works like an logical or."
   ]
  },
  {
   "cell_type": "code",
   "execution_count": 112,
   "metadata": {},
   "outputs": [
    {
     "name": "stdout",
     "output_type": "stream",
     "text": [
      "Pattern: foo|bar on string: foo: Found\n"
     ]
    }
   ],
   "source": [
    "pattern = r'foo|bar'\n",
    "example = 'foo'\n",
    "regexp=re.compile(pattern)\n",
    "log_if_found(regexp.search(example), pattern, example)"
   ]
  },
  {
   "cell_type": "code",
   "execution_count": 113,
   "metadata": {},
   "outputs": [
    {
     "name": "stdout",
     "output_type": "stream",
     "text": [
      "Pattern: foo|bar on string: bar: Found\n"
     ]
    }
   ],
   "source": [
    "example = 'bar'\n",
    "regexp=re.compile(pattern)\n",
    "log_if_found(regexp.search(example), pattern, example)"
   ]
  },
  {
   "cell_type": "code",
   "execution_count": 114,
   "metadata": {},
   "outputs": [
    {
     "name": "stdout",
     "output_type": "stream",
     "text": [
      "Pattern: foo|bar on string: foo bar: Found\n"
     ]
    }
   ],
   "source": [
    "example = 'foo bar'\n",
    "regexp=re.compile(pattern)\n",
    "log_if_found(regexp.search(example), pattern, example)"
   ]
  },
  {
   "cell_type": "markdown",
   "metadata": {},
   "source": [
    "## Plus\n",
    "\n",
    "Matches 1 or more."
   ]
  },
  {
   "cell_type": "code",
   "execution_count": 115,
   "metadata": {},
   "outputs": [
    {
     "name": "stdout",
     "output_type": "stream",
     "text": [
      "Pattern: abc+ on string: abc: Found\n"
     ]
    }
   ],
   "source": [
    "pattern = \"abc+\"\n",
    "example = \"abc\"\n",
    "regexp = re.compile(pattern)\n",
    "log_if_found(regexp.findall(example), pattern, example)"
   ]
  },
  {
   "cell_type": "code",
   "execution_count": 116,
   "metadata": {},
   "outputs": [
    {
     "name": "stdout",
     "output_type": "stream",
     "text": [
      "Pattern: abc+ on string: abcccc: Found\n"
     ]
    }
   ],
   "source": [
    "pattern = \"abc+\"\n",
    "example = \"abcccc\"\n",
    "regexp = re.compile(pattern)\n",
    "log_if_found(regexp.findall(example), pattern, example)"
   ]
  },
  {
   "cell_type": "code",
   "execution_count": 117,
   "metadata": {},
   "outputs": [
    {
     "name": "stdout",
     "output_type": "stream",
     "text": [
      "Pattern: abc+ on string: abcdddeds: Found\n"
     ]
    }
   ],
   "source": [
    "pattern = \"abc+\"\n",
    "example = \"abcdddeds\"\n",
    "regexp = re.compile(pattern)\n",
    "log_if_found(regexp.findall(example), pattern, example)"
   ]
  },
  {
   "cell_type": "markdown",
   "metadata": {},
   "source": [
    "## Question mark\n",
    "\n",
    "Matches 0 or 1."
   ]
  },
  {
   "cell_type": "code",
   "execution_count": 118,
   "metadata": {},
   "outputs": [
    {
     "name": "stdout",
     "output_type": "stream",
     "text": [
      "Pattern: f?o on string: foo: Found\n"
     ]
    }
   ],
   "source": [
    "pattern = r'f?o'\n",
    "example = 'foo'\n",
    "regexp=re.compile(pattern)\n",
    "log_if_found(regexp.search(example), pattern, example)"
   ]
  },
  {
   "cell_type": "code",
   "execution_count": 119,
   "metadata": {},
   "outputs": [
    {
     "name": "stdout",
     "output_type": "stream",
     "text": [
      "Pattern: f?o on string: fo: Found\n"
     ]
    }
   ],
   "source": [
    "pattern = r'f?o'\n",
    "example = 'fo'\n",
    "regexp=re.compile(pattern)\n",
    "log_if_found(regexp.search(example), pattern, example)"
   ]
  },
  {
   "cell_type": "markdown",
   "metadata": {},
   "source": [
    "# Char classes\n",
    "\n",
    "There are more complex special combination of characters that are called char classes. We can use these to match more complex text and patterns."
   ]
  },
  {
   "cell_type": "markdown",
   "metadata": {},
   "source": [
    "## Back references\n",
    "\n",
    "Backreferences in a pattern allow you to specify that the contents of an earlier capturing group must also be found at the current location in the string. For example, \\1 will succeed if the exact contents of group 1 can be found at the current position, and fails otherwise."
   ]
  },
  {
   "cell_type": "code",
   "execution_count": 120,
   "metadata": {},
   "outputs": [
    {
     "name": "stdout",
     "output_type": "stream",
     "text": [
      "('hello',)\n"
     ]
    }
   ],
   "source": [
    "pattern = r\"(\\w+) \\1\"\n",
    "example = 'hello hello world'\n",
    "regexp=re.compile(pattern)\n",
    "print(regexp.search(example).groups())"
   ]
  },
  {
   "cell_type": "code",
   "execution_count": 121,
   "metadata": {},
   "outputs": [
    {
     "name": "stdout",
     "output_type": "stream",
     "text": [
      "a-1\n",
      "baer-20\n",
      "afcr-34\n"
     ]
    }
   ],
   "source": [
    "pattern = r\"(\\d+)-(\\w+)\"\n",
    "example = \"1-a\\n20-baer\\n34-afcr\"\n",
    "replace = r\"\\2-\\1\"\n",
    "regexp=re.compile(pattern)\n",
    "print(regexp.sub(replace, example))"
   ]
  },
  {
   "cell_type": "code",
   "execution_count": 122,
   "metadata": {},
   "outputs": [
    {
     "name": "stdout",
     "output_type": "stream",
     "text": [
      "a-1\n",
      "baer-20\n",
      "afcr-34\n"
     ]
    }
   ],
   "source": [
    "pattern = r\"(?P<country>\\d+)-(?P<id>\\w+)\"\n",
    "example = \"1-a\\n20-baer\\n34-afcr\"\n",
    "replace = r\"\\g<id>-\\g<country>\"\n",
    "regexp = re.compile(pattern)\n",
    "print(regexp.sub(replace, example))"
   ]
  },
  {
   "cell_type": "code",
   "execution_count": 123,
   "metadata": {},
   "outputs": [
    {
     "name": "stdout",
     "output_type": "stream",
     "text": [
      "a-1\n",
      "baer-20\n",
      "afcr-34\n"
     ]
    }
   ],
   "source": [
    "pattern = r\"(?P<country>\\d+)-(?P<id>\\w+)\"\n",
    "example = \"1-a\\n20-baer\\n34-afcr\"\n",
    "replace = r\"\\g<id>-\\g<country>\"\n",
    "regexp = re.compile(pattern)\n",
    "print(regexp.sub(replace, example))"
   ]
  },
  {
   "cell_type": "markdown",
   "metadata": {},
   "source": [
    "## Groups\n",
    "\n",
    "We can create groups with the brackets."
   ]
  },
  {
   "cell_type": "code",
   "execution_count": 124,
   "metadata": {},
   "outputs": [
    {
     "name": "stdout",
     "output_type": "stream",
     "text": [
      "Pattern: (\\w+) (\\w+) on string: Hello world: Found\n",
      "Hello world\n",
      "Hello world\n",
      "Hello\n",
      "world\n",
      "('Hello world', 'world')\n",
      "('Hello', 'world')\n"
     ]
    }
   ],
   "source": [
    "pattern = r\"(\\w+) (\\w+)\"\n",
    "example = 'Hello world'\n",
    "regexp=re.compile(pattern)\n",
    "log_if_found(regexp.search(example), pattern, example)\n",
    "match = regexp.search(example)\n",
    "print(match.group())\n",
    "print(match.group(0))\n",
    "print(match.group(1))\n",
    "print(match.group(2))\n",
    "print(match.group(0, 2))\n",
    "print(match.groups())"
   ]
  },
  {
   "cell_type": "code",
   "execution_count": 125,
   "metadata": {},
   "outputs": [
    {
     "name": "stdout",
     "output_type": "stream",
     "text": [
      "{'first': 'Hello', 'second': 'world'}\n",
      "0\n",
      "6\n",
      "5\n",
      "11\n",
      "Hello\n"
     ]
    }
   ],
   "source": [
    "pattern = r\"(?P<first>\\w+) (?P<second>\\w+)\"\n",
    "example = 'Hello world'\n",
    "regexp=re.compile(pattern)\n",
    "results = regexp.search(example)\n",
    "print(results.groupdict())\n",
    "print(results.start(1))\n",
    "print(results.start(2))\n",
    "print(results.end(1))\n",
    "print(results.end(2))\n",
    "print(results.group('first'))"
   ]
  },
  {
   "cell_type": "markdown",
   "metadata": {},
   "source": [
    "## Sets\n",
    "\n",
    "Other brackets are used to specify the set of characters that are valid."
   ]
  },
  {
   "cell_type": "code",
   "execution_count": 126,
   "metadata": {},
   "outputs": [
    {
     "name": "stdout",
     "output_type": "stream",
     "text": [
      "Pattern: [A-Z] on string: A: Found\n"
     ]
    }
   ],
   "source": [
    "pattern = r'[A-Z]'\n",
    "example = 'A'\n",
    "regexp=re.compile(pattern)\n",
    "log_if_found(regexp.search(example), pattern, example)"
   ]
  },
  {
   "cell_type": "code",
   "execution_count": 127,
   "metadata": {},
   "outputs": [
    {
     "name": "stdout",
     "output_type": "stream",
     "text": [
      "Pattern: [A-Z] on string: b: Not found\n"
     ]
    }
   ],
   "source": [
    "pattern = r'[A-Z]'\n",
    "example = 'b'\n",
    "regexp=re.compile(pattern)\n",
    "log_if_found(regexp.search(example), pattern, example)"
   ]
  },
  {
   "cell_type": "code",
   "execution_count": 128,
   "metadata": {},
   "outputs": [
    {
     "name": "stdout",
     "output_type": "stream",
     "text": [
      "Pattern: [A-Za-z] on string: b: Found\n"
     ]
    }
   ],
   "source": [
    "pattern = r'[A-Za-z]'\n",
    "example = 'b'\n",
    "regexp=re.compile(pattern)\n",
    "log_if_found(regexp.search(example), pattern, example)"
   ]
  },
  {
   "cell_type": "code",
   "execution_count": 129,
   "metadata": {},
   "outputs": [
    {
     "name": "stdout",
     "output_type": "stream",
     "text": [
      "Pattern: [A-Za-z] on string: bb: Found\n"
     ]
    }
   ],
   "source": [
    "pattern = r'[A-Za-z]'\n",
    "example = 'bb'\n",
    "regexp=re.compile(pattern)\n",
    "log_if_found(regexp.search(example), pattern, example)"
   ]
  },
  {
   "cell_type": "code",
   "execution_count": 130,
   "metadata": {},
   "outputs": [
    {
     "name": "stdout",
     "output_type": "stream",
     "text": [
      "Pattern: [A-Za-z][A-Za-z] on string: bb: Found\n"
     ]
    }
   ],
   "source": [
    "pattern = r'[A-Za-z][A-Za-z]'\n",
    "example = 'bb'\n",
    "regexp=re.compile(pattern)\n",
    "log_if_found(regexp.search(example), pattern, example)"
   ]
  },
  {
   "cell_type": "code",
   "execution_count": 131,
   "metadata": {},
   "outputs": [
    {
     "name": "stdout",
     "output_type": "stream",
     "text": [
      "Pattern: [A-Za-z][A-Za-z][A-Za-z] on string: bb: Not found\n"
     ]
    }
   ],
   "source": [
    "pattern = r'[A-Za-z][A-Za-z][A-Za-z]'\n",
    "example = 'bb'\n",
    "regexp=re.compile(pattern)\n",
    "log_if_found(regexp.search(example), pattern, example)"
   ]
  },
  {
   "cell_type": "code",
   "execution_count": 132,
   "metadata": {},
   "outputs": [
    {
     "name": "stdout",
     "output_type": "stream",
     "text": [
      "Pattern: [^A-Z] on string: b: Found\n"
     ]
    }
   ],
   "source": [
    "pattern = r'[^A-Z]'\n",
    "example = 'b'\n",
    "regexp=re.compile(pattern)\n",
    "log_if_found(regexp.search(example), pattern, example)"
   ]
  },
  {
   "cell_type": "markdown",
   "metadata": {},
   "source": [
    "### ?iLmsux\n",
    "\n",
    "We can set the option for each group with:\n",
    "\n",
    "- i - re.IGNORECASE\n",
    "- L - re.LOCALE\n",
    "- m - re.MULTILINE\n",
    "- s - re.DOTALL\n",
    "- u - re.UNICODE\n",
    "- x - re.VERBOSE"
   ]
  },
  {
   "cell_type": "code",
   "execution_count": 134,
   "metadata": {},
   "outputs": [
    {
     "name": "stdout",
     "output_type": "stream",
     "text": [
      "['ñ']\n",
      "['ñ']\n"
     ]
    }
   ],
   "source": [
    "print(re.findall(r\"(?u)\\w+\", \"ñ\"))\n",
    "print(re.findall(r\"\\w+\" ,\"ñ\", re.U))"
   ]
  },
  {
   "cell_type": "markdown",
   "metadata": {},
   "source": [
    "### if-else ?(text) yes |no\n",
    "\n",
    "We can decide if the pattern is found than match with yes pattern, in other case with no pattern."
   ]
  },
  {
   "cell_type": "code",
   "execution_count": 135,
   "metadata": {},
   "outputs": [
    {
     "name": "stdout",
     "output_type": "stream",
     "text": [
      "<_sre.SRE_Match object; span=(0, 10), match='34-erte-22'>\n",
      "<_sre.SRE_Match object; span=(0, 4), match='erte'>\n",
      "None\n"
     ]
    }
   ],
   "source": [
    "pattern = re.compile(r\"(\\d\\d-)?(\\w{3,4})(?(1)(-\\d\\d))\")\n",
    "print(pattern.match(\"34-erte-22\"))\n",
    "print(pattern.search(\"erte\"))\n",
    "print(pattern.match(\"34-erte\"))"
   ]
  },
  {
   "cell_type": "code",
   "execution_count": 136,
   "metadata": {},
   "outputs": [
    {
     "name": "stdout",
     "output_type": "stream",
     "text": [
      "<_sre.SRE_Match object; span=(0, 10), match='34-erte-22'>\n",
      "None\n",
      "<_sre.SRE_Match object; span=(0, 9), match='erte-abcd'>\n",
      "Pattern: (\\d\\d-)?(\\w{2,3})(?(1)(-\\d\\d)) on string: 48-POL-12: Found\n",
      "Pattern: (\\d\\d-)?(\\w{2,3})(?(1)(-\\d\\d)) on string: 48-POL: Found\n",
      "Pattern: (\\d\\d-)?(\\w{2,3})(?(1)(-\\d\\d)) on string: POL: Found\n"
     ]
    }
   ],
   "source": [
    "pattern = re.compile(r\"(\\d\\d-)?(\\w{3,4})-(?(1)(\\d\\d)|[a-z]{3,4})$\")\n",
    "print(pattern.match(\"34-erte-22\"))\n",
    "print(pattern.match(\"34-erte\"))\n",
    "print(pattern.match(\"erte-abcd\"))\n",
    "\n",
    "example = \"48-POL-12\"\n",
    "short_example = \"48-POL\"\n",
    "shortest_example = \"POL\"\n",
    "old_pattern=r\"(\\d\\d-)?(\\w{2,3})(?(1)(-\\d\\d))\"\n",
    "regexp=re.compile(old_pattern)\n",
    "log_if_found(regexp.match(example), old_pattern, example)\n",
    "log_if_found(regexp.match(short_example), old_pattern, short_example)\n",
    "log_if_found(regexp.search(shortest_example), old_pattern, shortest_example)"
   ]
  },
  {
   "cell_type": "markdown",
   "metadata": {},
   "source": [
    "### Reduce the groups ?:\n",
    "\n",
    "Don't return groups."
   ]
  },
  {
   "cell_type": "code",
   "execution_count": 137,
   "metadata": {},
   "outputs": [
    {
     "name": "stdout",
     "output_type": "stream",
     "text": [
      "()\n",
      "('ol',)\n"
     ]
    }
   ],
   "source": [
    "pattern1 = u\"Españ(?:a|ol)\"\n",
    "pattern2 = u\"Españ(a|ol)\"\n",
    "example = u\"Español\"\n",
    "regexp = re.search(pattern1, example)\n",
    "print(regexp.groups())\n",
    "regexp = re.search(pattern2, example)\n",
    "print(regexp.groups())"
   ]
  },
  {
   "cell_type": "markdown",
   "metadata": {},
   "source": [
    "We can also use it overlap the text."
   ]
  },
  {
   "cell_type": "code",
   "execution_count": 138,
   "metadata": {},
   "outputs": [
    {
     "name": "stdout",
     "output_type": "stream",
     "text": [
      "['a', 'a']\n",
      "['aba', 'a']\n",
      "['abba', 'a']\n"
     ]
    }
   ],
   "source": [
    "pattern = r'(a|b)+'\n",
    "example = 'abaca'\n",
    "print(re.findall(pattern, example))\n",
    "pattern = r'((?:a|b)+)'\n",
    "print(re.findall(pattern, example))\n",
    "example = 'abbaca'\n",
    "print(re.findall(pattern, example))"
   ]
  },
  {
   "cell_type": "markdown",
   "metadata": {},
   "source": [
    "### Look ahead\n",
    "\n",
    "This mechanism is represented as an expression preceded by a question mark and an equals sign, ?=, inside a parenthesis block. For example, (?=regex) will match if the passed regex do match against the forthcoming input."
   ]
  },
  {
   "cell_type": "code",
   "execution_count": 139,
   "metadata": {},
   "outputs": [
    {
     "name": "stdout",
     "output_type": "stream",
     "text": [
      "16 19\n"
     ]
    }
   ],
   "source": [
    "pattern = r'fox'\n",
    "example = \"The quick brown fox jumps over the lazy dog\"\n",
    "regexp = re.compile(pattern)\n",
    "result = regexp.search(example)\n",
    "print(result.start(), result.end())"
   ]
  },
  {
   "cell_type": "code",
   "execution_count": 140,
   "metadata": {},
   "outputs": [
    {
     "name": "stdout",
     "output_type": "stream",
     "text": [
      "16 16\n"
     ]
    }
   ],
   "source": [
    "pattern = r'(?=fox)'\n",
    "regexp = re.compile(pattern)\n",
    "result = regexp.search(example)\n",
    "print(result.start(), result.end())"
   ]
  },
  {
   "cell_type": "code",
   "execution_count": 141,
   "metadata": {},
   "outputs": [
    {
     "name": "stdout",
     "output_type": "stream",
     "text": [
      "['Felix', 'Victor']\n"
     ]
    }
   ],
   "source": [
    "pattern = r'\\w+(?=,)'\n",
    "example = \"They were three: Felix, Victor, and Carlos.\"\n",
    "regexp = re.compile(pattern)\n",
    "print(regexp.findall(example))"
   ]
  },
  {
   "cell_type": "code",
   "execution_count": 142,
   "metadata": {},
   "outputs": [
    {
     "name": "stdout",
     "output_type": "stream",
     "text": [
      "['Felix,', 'Victor,']\n"
     ]
    }
   ],
   "source": [
    "pattern = r'\\w+,'\n",
    "regexp = re.compile(pattern)\n",
    "print(regexp.findall(example))"
   ]
  },
  {
   "cell_type": "code",
   "execution_count": 143,
   "metadata": {},
   "outputs": [
    {
     "name": "stdout",
     "output_type": "stream",
     "text": [
      "['Felix', 'Victor', 'Carlos']\n"
     ]
    }
   ],
   "source": [
    "pattern = r'\\w+(?=,|\\.)'\n",
    "regexp = re.compile(pattern)\n",
    "print(regexp.findall(example))"
   ]
  },
  {
   "cell_type": "markdown",
   "metadata": {},
   "source": [
    "### Negative look ahead\n",
    "\n",
    "This mechanism is specified as an expression preceded by a question mark and an exclamation mark, ?!, inside a parenthesis block. For example, (?!regex) will match if the passed regex do not match against the forthcoming input."
   ]
  },
  {
   "cell_type": "code",
   "execution_count": 144,
   "metadata": {},
   "outputs": [
    {
     "name": "stdout",
     "output_type": "stream",
     "text": [
      "['John', 'John']\n",
      "0 4\n",
      "12 16\n"
     ]
    }
   ],
   "source": [
    "pattern = r'John(?!\\sSmith)'\n",
    "example = \"John McLane John Lenon John Smith\"\n",
    "regexp = re.compile(pattern)\n",
    "print(regexp.findall(example))\n",
    "result = regexp.finditer(example)\n",
    "for i in result:\n",
    "    print(i.start(), i.end())"
   ]
  },
  {
   "cell_type": "markdown",
   "metadata": {},
   "source": [
    "### Look around ?= ?!\n",
    "\n",
    "In other words, start from the right side."
   ]
  },
  {
   "cell_type": "code",
   "execution_count": 145,
   "metadata": {},
   "outputs": [
    {
     "name": "stdout",
     "output_type": "stream",
     "text": [
      "['123', '455', '678', '90']\n",
      "0 1\n",
      "1 4\n",
      "4 7\n",
      "1,234,567,890\n"
     ]
    }
   ],
   "source": [
    "pattern = r'\\d{1,3}'\n",
    "example = \"12345567890\"\n",
    "regexp = re.compile(pattern)\n",
    "print(regexp.findall(example))\n",
    "\n",
    "pattern = r'\\d{1,3}(?=(\\d{3})+(?!\\d))'\n",
    "example = \"1234567890\"\n",
    "regexp = re.compile(pattern)\n",
    "results = regexp.finditer(example)\n",
    "for result in results:\n",
    "    print(result.start(), result.end())\n",
    "\n",
    "print(regexp.sub(r'\\g<0>,', example))"
   ]
  },
  {
   "cell_type": "markdown",
   "metadata": {},
   "source": [
    "### Look behind ?<=\n",
    "\n",
    "We could safely define look behind as the opposite operation to look ahead. It tries to match behind the subexpression passed as an argument. It has a zero-width nature as well, and therefore, it won't be part of the result. \n",
    "We could, for instance, use it in an example similar to the one we used in negative look ahead to find just the surname of someone named John McLane. To accomplish this, we could write a look behind like the following:"
   ]
  },
  {
   "cell_type": "code",
   "execution_count": 146,
   "metadata": {},
   "outputs": [
    {
     "name": "stdout",
     "output_type": "stream",
     "text": [
      "32 38\n"
     ]
    }
   ],
   "source": [
    "pattern = r'(?<=John\\s)McLane'\n",
    "example = \"I would rather go out with John McLane than with John Smith or John Lenon\"\n",
    "regexp = re.compile(pattern)\n",
    "results = regexp.finditer(example)\n",
    "for i in results:\n",
    "    print(i.start(), i.end())"
   ]
  },
  {
   "cell_type": "code",
   "execution_count": 147,
   "metadata": {},
   "outputs": [
    {
     "name": "stdout",
     "output_type": "stream",
     "text": [
      "Pattern: (?<!John\\s)Doe on string: John Doe, Calvin Doe, Hobbes Doe: Found\n",
      "17 20\n",
      "29 32\n"
     ]
    }
   ],
   "source": [
    "pattern = r'(?<!John\\s)Doe'\n",
    "example = \"John Doe, Calvin Doe, Hobbes Doe\"\n",
    "regexp = re.compile(pattern)\n",
    "log_if_found(regexp.findall(example), pattern, example)\n",
    "results = regexp.finditer(example)\n",
    "\n",
    "for i in results:\n",
    "    print(i.start(), i.end())"
   ]
  },
  {
   "cell_type": "markdown",
   "metadata": {},
   "source": [
    "# Exercises\n",
    "\n",
    "There are three simple parsing exercises. Please use the examples in this notebook to create these patterns."
   ]
  },
  {
   "cell_type": "markdown",
   "metadata": {},
   "source": [
    "## Email parsing\n",
    "\n",
    "Please create the pattern to find the three different emails. "
   ]
  },
  {
   "cell_type": "code",
   "execution_count": 152,
   "metadata": {},
   "outputs": [
    {
     "name": "stdout",
     "output_type": "stream",
     "text": [
      "<_sre.SRE_Match object; span=(0, 0), match=''>\n",
      "Works\n",
      "Works\n"
     ]
    }
   ],
   "source": [
    "'''\n",
    ">>> check_email_edu()\n",
    "True\n",
    ">>> check_email_regular()\n",
    "True\n",
    ">>> check_email_negative()\n",
    "False\n",
    "'''\n",
    "\n",
    "import re\n",
    "\n",
    "def check_email_edu():\n",
    "    email = \"student.muller@uni.edu.de\"\n",
    "    pattern = \"\"\n",
    "    regexp = re.compile(pattern)\n",
    "    return regexp.search(email)\n",
    "\n",
    "def check_email_regular():\n",
    "    email = \"student1234@gmail.com\"\n",
    "    pattern = \"\"\n",
    "    regexp = re.compile(pattern)\n",
    "    return regexp.search(email)\n",
    "\n",
    "def check_email_negative():\n",
    "    email = \"#-*&12@com\"\n",
    "    pattern = \"\"\n",
    "    regexp = re.compile(pattern)\n",
    "    return regexp.search(email)"
   ]
  },
  {
   "cell_type": "markdown",
   "metadata": {},
   "source": [
    "## Log parsing\n",
    "\n",
    "Please create a pattern to parse the logs."
   ]
  },
  {
   "cell_type": "code",
   "execution_count": 149,
   "metadata": {},
   "outputs": [],
   "source": [
    "'''\n",
    ">>> check_logs()\n",
    "True\n",
    ">>> check_logs_negative()\n",
    "False\n",
    "'''\n",
    "\n",
    "import re\n",
    "\n",
    "\n",
    "def check_logs():\n",
    "    log = \"[Wed Oct 11 14:32:52 2000] [error] [client 127.0.0.1] client denied by server configuration: /export/home/live/ap/htdocs/test\"\n",
    "    pattern = \"\"\n",
    "    regexp = re.compile(pattern)\n",
    "    return regexp.search(log)\n",
    "\n",
    "\n",
    "def check_logs_negative():\n",
    "    log = \"[Wed Oct 11 14:32:52 2000] [client 127.01.0.1] client denied by server configuration: /export/home/live/ap/htdocs/test\"\n",
    "    pattern = \"\"\n",
    "    regexp = re.compile(pattern)\n",
    "    return regexp.search(log)\n",
    "\n",
    "if __name__ == '__main__':\n",
    "    import doctest\n",
    "    doctest.testmod()"
   ]
  },
  {
   "cell_type": "markdown",
   "metadata": {},
   "source": [
    "## JSON parsing\n",
    "\n",
    "Create pattern to parse the JSON data."
   ]
  },
  {
   "cell_type": "code",
   "execution_count": 150,
   "metadata": {},
   "outputs": [],
   "source": [
    "'''\n",
    ">>> check_json()\n",
    "True\n",
    ">>> check_json_negative()\n",
    "False\n",
    "'''\n",
    "\n",
    "import re\n",
    "\n",
    "\n",
    "def check_json():\n",
    "    json = '{' \\\n",
    "           ' \"product_id\": 2,' \\\n",
    "           ' \"title\" : \"sample product\",' \\\n",
    "           ' \"description\": \"product\\n description\\n\"' \\\n",
    "           '}'\n",
    "    pattern = \"\"\n",
    "    regexp = re.compile(pattern)\n",
    "    return regexp.search(json)\n",
    "\n",
    "\n",
    "def check_json_negative():\n",
    "    json = '{' \\\n",
    "           ' \"product_id: 2,' \\\n",
    "           ' \"title\" : \"sample product\",' \\\n",
    "           ' \"description\": \"product\\n description\\n\"' \\\n",
    "           '}'\n",
    "    pattern = \"\"\n",
    "    regexp = re.compile(pattern)\n",
    "    return regexp.search(json)\n",
    "\n",
    "\n",
    "#if __name__ == '__main__':\n",
    "#    import doctest\n",
    "#    doctest.testmod()"
   ]
  }
 ],
 "metadata": {
  "kernelspec": {
   "display_name": "Python 3",
   "language": "python",
   "name": "python3"
  },
  "language_info": {
   "codemirror_mode": {
    "name": "ipython",
    "version": 3
   },
   "file_extension": ".py",
   "mimetype": "text/x-python",
   "name": "python",
   "nbconvert_exporter": "python",
   "pygments_lexer": "ipython3",
   "version": "3.6.8"
  }
 },
 "nbformat": 4,
 "nbformat_minor": 2
}
