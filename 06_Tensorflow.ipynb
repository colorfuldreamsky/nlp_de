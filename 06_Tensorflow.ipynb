{
 "cells": [
  {
   "cell_type": "markdown",
   "metadata": {
    "collapsed": true
   },
   "source": [
    "# A short introduction to Tensorflow\n",
    "\n",
    "Neural network are the current hype technologies of machine learning and it is so for a good reason. In NLP they allowed models to answer text-based questions with human-level accuracy, or to get sentiment and context way better than anything before them.\n",
    "\n",
    "Most basic neural network types are:\n",
    "- FCN (fully connected network),\n",
    "- CNN (convolutional network),\n",
    "- RNN (recursive neural network).\n",
    "\n",
    "All of them are used for plethora of tasks, but CNN take prime in image-related jobs, while RNNs excel when it comes to text understanding."
   ]
  },
  {
   "cell_type": "markdown",
   "metadata": {},
   "source": [
    "## Machine learning introduction\n",
    "\n",
    "Machine learning is a way to implement artificial intelligence. Deep learning is a subset of machine learning. We divide machine learning into shallow and deep learning methods. **Artificial Intelligence** is about algorithms that behave like intelligent human being. Steven Spielberg's A.I. movie present robots that behave like humans. Almost like humans. Such robots like shown in the movie are still to be more fiction rather then science.\n",
    "\n",
    "![](images/from_ai.png)\n",
    "\n",
    "**Machine learning** is very often misunderstood to be the same as pattern recognition, deep learning or artificial intelligence. The reason that those terms are used as synonyms is that all has many in common and are easily generalized especially by everyone without knowledge about the differences. There are many definitions for machine learning. Machine learning is about algorithms that learn new behavior based on data. We are able to teach the algorithm, so that it can predict unknown before cases. The prediction process is also known as classification or **predictive analytics**. There is a huge set of such algorithms that are called classification methods.\n",
    "\n",
    "The whole process consist of a few steps:\n",
    "\n",
    "1. Assemble data\n",
    "2. Data set preprocessing\n",
    "3. Feature extraction\n",
    "4. Feature selection\n",
    "5. Training\n",
    "6. Prediction\n",
    "7. Validation\n",
    "\n",
    "The machine learning process consists of three major parts: training, testing and retraining phases. The last part is discussed in a separate notebook.\n",
    "\n",
    "![](images/machine_learning.png)"
   ]
  },
  {
   "cell_type": "markdown",
   "metadata": {},
   "source": [
    "## Tensorflow basics\n",
    "\n",
    "First things first: __tensors__. Those are N-dimensional matrices (usually 2D/3D) constituting building blocks of framework's computation:"
   ]
  },
  {
   "cell_type": "code",
   "execution_count": 4,
   "metadata": {},
   "outputs": [
    {
     "data": {
      "text/plain": [
       "<tf.Tensor 'mul:0' shape=() dtype=float32>"
      ]
     },
     "execution_count": 4,
     "metadata": {},
     "output_type": "execute_result"
    }
   ],
   "source": [
    "import tensorflow as tf\n",
    "\n",
    "# That's how you make constant value in low-level Tensorflow\n",
    "x = tf.constant(3, dtype=tf.float32)\n",
    "# We can omit type if it's float32 (it usually is)\n",
    "y = tf.constant(4.0)\n",
    "tensor = x * y\n",
    "tensor"
   ]
  },
  {
   "cell_type": "markdown",
   "metadata": {},
   "source": [
    "Surprisingly this __does not__ return us the values contained inside the Tensor, but the object. This object is a __static graph__, which represents\n",
    "multiplication of two constant values.\n",
    "\n",
    "Graph can be divided into two parts:\n",
    "-__ops (operations)__ - graph nodes, describing calculations consuming and producing tensors,\n",
    "-__tensors__ - graph edges, represent values flowing through operations.\n",
    "\n",
    "For it to be evaluated we need to run it inside __session__, which is a mechanism used for running and providing values to graph.\n",
    "\n",
    "Before it, please notice the type is inferred from the value passed to it.\n",
    "If we didn't specify `tf.float32` it would be `tf.int64` and those types are __incompatible__ in Tensorflow."
   ]
  },
  {
   "cell_type": "code",
   "execution_count": 44,
   "metadata": {},
   "outputs": [
    {
     "name": "stdout",
     "output_type": "stream",
     "text": [
      "12.0\n"
     ]
    }
   ],
   "source": [
    "with tf.Session() as session:\n",
    "    print(session.run(tensor))"
   ]
  },
  {
   "cell_type": "markdown",
   "metadata": {},
   "source": [
    "__REMEMBER:__ for any operation to be run and produce actual value you need to pass it to session.\n",
    "\n",
    "Before moving on we have to introduce other Tensor types provided by the framework:\n",
    "- __tf.placeholder__: placeholder for the value we will input later and turn into concrete value. Good analogy could be y = f(x), where x only represents some value.\n",
    "- __tf.Variable__: unlike __tf.Constant__ seen above, this tensor can change it's value during session execution. They __have to__ be initialized (in high level APIs it is done for you).\n",
    "\n",
    "Now, we can dive into some basic ML model to see how all the elements fit together:"
   ]
  },
  {
   "cell_type": "markdown",
   "metadata": {},
   "source": [
    "### Linear regression with Tensorflow\n",
    "\n",
    "A bit more complex example is linear regression. We want to predict $y$ that depends on $x$ values, weights and bias. Linear regression can be written as: $y=wx+b$. \n",
    "\n",
    "Let's set the train dataset:"
   ]
  },
  {
   "cell_type": "code",
   "execution_count": 5,
   "metadata": {},
   "outputs": [],
   "source": [
    "import numpy as np\n",
    "\n",
    "X_train = np.array([3.3,4.4,5.5,6.71,6.93,4.168,9.779,6.182,7.59,2.167,\n",
    "                         7.042,10.791,5.313,7.997,5.654,9.27,3.1])\n",
    "Y_train = np.array([1.7,2.76,2.09,3.19,1.694,1.573,3.366,2.596,2.53,1.221,\n",
    "                         2.827,3.465,1.65,2.904,2.42,2.94,1.3])\n",
    "\n",
    "n_samples = X_train.shape[0]"
   ]
  },
  {
   "cell_type": "markdown",
   "metadata": {},
   "source": [
    "We can plot the data and see the trend. Visually it's easy to predict $y$ for a given $x$:"
   ]
  },
  {
   "cell_type": "code",
   "execution_count": 6,
   "metadata": {},
   "outputs": [
    {
     "data": {
      "text/plain": [
       "(1, 4)"
      ]
     },
     "execution_count": 6,
     "metadata": {},
     "output_type": "execute_result"
    },
    {
     "data": {
      "image/png": "[encoded data removed]",
      "text/plain": [
       "<Figure size 432x288 with 1 Axes>"
      ]
     },
     "metadata": {},
     "output_type": "display_data"
    }
   ],
   "source": [
    "%matplotlib inline\n",
    "\n",
    "import matplotlib.pyplot as plt\n",
    "\n",
    "fit = np.polyfit(X_train,Y_train,1)\n",
    "\n",
    "fit_fn = np.poly1d(fit) \n",
    "\n",
    "plt.plot(X_train, Y_train, 'ro', X_train, fit_fn(X_train), '--k')\n",
    "plt.xlim(1, 10)\n",
    "plt.ylim(1, 4)"
   ]
  },
  {
   "cell_type": "markdown",
   "metadata": {},
   "source": [
    "The next step is to setup Tensorflow tensors: "
   ]
  },
  {
   "cell_type": "code",
   "execution_count": 7,
   "metadata": {},
   "outputs": [],
   "source": [
    "X = tf.placeholder(\"float\")\n",
    "Y = tf.placeholder(\"float\")\n",
    "\n",
    "# Set model weights and bias to random\n",
    "W = tf.Variable(np.random.randn(), name=\"weight\")\n",
    "b = tf.Variable(np.random.randn(), name=\"bias\")"
   ]
  },
  {
   "cell_type": "markdown",
   "metadata": {},
   "source": [
    "#### Exercise 1: Build a linear regression model with tensorflow\n",
    "\n",
    "The goal is to build the flow between the tensors and get the $y=xw+b$. Use the add and multiply methods provided by Tensorflow. More about both methods: [add](https://www.tensorflow.org/api_docs/python/tf/math/add), [multiply](https://www.tensorflow.org/api_docs/python/tf/math/multiply)."
   ]
  },
  {
   "cell_type": "code",
   "execution_count": 8,
   "metadata": {},
   "outputs": [
    {
     "name": "stdout",
     "output_type": "stream",
     "text": [
      "Epoch: 0100 cost= 0.215932518 W= 0.4579907 b= -0.69772786\n",
      "Epoch: 0200 cost= 0.185680300 W= 0.4339391 b= -0.52470237\n",
      "Epoch: 0300 cost= 0.162011743 W= 0.41266352 b= -0.37164634\n",
      "Epoch: 0400 cost= 0.143494502 W= 0.39384314 b= -0.2362549\n",
      "Epoch: 0500 cost= 0.129007638 W= 0.377195 b= -0.11648907\n",
      "Epoch: 0600 cost= 0.117674299 W= 0.36246818 b= -0.010545683\n",
      "Epoch: 0700 cost= 0.108808234 W= 0.34944108 b= 0.083170526\n",
      "Epoch: 0800 cost= 0.101872563 W= 0.3379175 b= 0.16607083\n",
      "Epoch: 0900 cost= 0.096447177 W= 0.3277238 b= 0.23940349\n",
      "Epoch: 1000 cost= 0.092203394 W= 0.31870648 b= 0.30427298\n",
      "Optimization Finished!\n",
      "Training cost= 0.09220339 W= 0.31870648 b= 0.30427298 \n",
      "\n"
     ]
    },
    {
     "data": {
      "image/png": "[encoded data removed]",
      "text/plain": [
       "<Figure size 432x288 with 1 Axes>"
      ]
     },
     "metadata": {},
     "output_type": "display_data"
    },
    {
     "name": "stdout",
     "output_type": "stream",
     "text": [
      "Testing... (Mean square loss Comparison)\n",
      "Testing cost= 0.08234259\n",
      "Absolute mean square loss difference: 0.009860806\n"
     ]
    },
    {
     "data": {
      "image/png": "[encoded data removed]",
      "text/plain": [
       "<Figure size 432x288 with 1 Axes>"
      ]
     },
     "metadata": {},
     "output_type": "display_data"
    }
   ],
   "source": [
    "%matplotlib inline\n",
    "\n",
    "# parameters:\n",
    "learning_rate = 0.01\n",
    "training_epochs = 1000\n",
    "display_step = 100\n",
    "\n",
    "\n",
    "pred = # add code here\n",
    "\n",
    "\n",
    "cost = tf.reduce_sum(tf.pow(pred-Y, 2))/(2*n_samples)\n",
    "optimizer = tf.train.GradientDescentOptimizer(learning_rate).minimize(cost)\n",
    "\n",
    "init = tf.global_variables_initializer()\n",
    "\n",
    "with tf.Session() as sess:\n",
    "    sess.run(init)\n",
    "    for epoch in range(training_epochs):\n",
    "        for (x, y) in zip(X_train, Y_train):\n",
    "            sess.run(optimizer, feed_dict={X: x, Y: y})\n",
    "\n",
    "        # Display logs per epoch step\n",
    "        if (epoch+1) % display_step == 0:\n",
    "            c = sess.run(cost, feed_dict={X: X_train, Y:Y_train})\n",
    "            print(\"Epoch:\", '%04d' % (epoch+1), \"cost=\", \"{:.9f}\".format(c), \\\n",
    "                \"W=\", sess.run(W), \"b=\", sess.run(b))\n",
    "\n",
    "    print(\"Optimization Finished!\")\n",
    "    training_cost = sess.run(cost, feed_dict={X: X_train, Y: Y_train})\n",
    "    print(\"Training cost=\", training_cost, \"W=\", sess.run(W), \"b=\", sess.run(b), '\\n')\n",
    "\n",
    "    plt.plot(X_train, Y_train, 'ro', label='Original data')\n",
    "    plt.plot(X_train, sess.run(W) * X_train + sess.run(b), label='Fitted line')\n",
    "    plt.legend()\n",
    "    plt.show()\n",
    "\n",
    "    X_test = np.array([6.83, 4.668, 8.9, 7.91, 5.7, 8.7, 3.1, 2.1])\n",
    "    Y_test = np.array([1.84, 2.273, 3.2, 2.831, 2.92, 3.24, 1.35, 1.03])\n",
    "        \n",
    "    print(\"Testing... (Mean square loss Comparison)\")\n",
    "    testing_cost = sess.run(\n",
    "        tf.reduce_sum(tf.pow(pred - Y, 2)) / (2 * X_test.shape[0]),\n",
    "        feed_dict={X: X_test, Y: Y_test})  # same function as cost above\n",
    "    print(\"Testing cost=\", testing_cost)\n",
    "    print(\"Absolute mean square loss difference:\", abs(\n",
    "        training_cost - testing_cost))\n",
    "\n",
    "    plt.plot(X_test, Y_test, 'bo', label='Testing data')\n",
    "    plt.plot(X_train, sess.run(W) * X_train + sess.run(b), label='Fitted line')\n",
    "    plt.legend()\n",
    "    plt.show()    "
   ]
  },
  {
   "cell_type": "markdown",
   "metadata": {},
   "source": [
    "The loss function and optimizers are explained in a separate notebook later in this course."
   ]
  },
  {
   "cell_type": "markdown",
   "metadata": {},
   "source": [
    "### Logistic regrssion \n",
    "\n",
    "Let's go further and build a bit more complex method. In this case we use the MNIST dataset which consist of number images. In the first step we need to prepare the dataset. MNIST can be easily taken from Keras datasets. We need to prepared batches of data for easier training. A batch is a smaller part of the training set. "
   ]
  },
  {
   "cell_type": "code",
   "execution_count": 10,
   "metadata": {},
   "outputs": [],
   "source": [
    "import numpy as np\n",
    "import pandas as pd\n",
    "\n",
    "def batch_dataset(x_train, y_train, batch_size: int):\n",
    "    # How many batches will be there in total?\n",
    "    batch_count = np.ceil(len(y_train)/batch_size)\n",
    "    # Split them (uneven parts supported as well)\n",
    "    return np.array_split(x_train, batch_count), np.array_split(y_train, batch_count)\n",
    "\n",
    "def prepare_dataset():\n",
    "    # Get MNIST dataset using high-leval Keras API as it is the easiest way\n",
    "    (x_train, y_train), (x_test, y_test) = tf.keras.datasets.mnist.load_data()\n",
    "    # Quantization not possible, you should use float values throughout TF\n",
    "    x_train, x_test = x_train / 255.0, x_test / 255.0\n",
    "    # Flatten 28*28 matrix into 784 vector\n",
    "    x_train, x_test = x_train.reshape(len(x_train), -1), x_test.reshape(len(x_test), -1)\n",
    "\n",
    "    return (x_train, y_train), (x_test, y_test)\n",
    "\n",
    "(x_train, y_train), (x_test, y_test) = prepare_dataset()"
   ]
  },
  {
   "cell_type": "markdown",
   "metadata": {},
   "source": [
    "The logistic regression looks similar as the linear, but instead of the linear function, we have the logistic function or as in this example the softmax function that can be written as:\n",
    "```\n",
    "tf.exp(logits) / tf.reduce_sum(tf.exp(logits), axis),\n",
    "```\n",
    "where ```logits``` is a tensor."
   ]
  },
  {
   "cell_type": "code",
   "execution_count": 49,
   "metadata": {},
   "outputs": [],
   "source": [
    "# Set tensorflow to log more informations\n",
    "tf.logging.set_verbosity(tf.logging.INFO)\n",
    "\n",
    "def create_logistic_regression(optimizer = None):\n",
    "    # Setup optimizer we would like to use\n",
    "    if optimizer is None:\n",
    "        optimizer = tf.train.GradientDescentOptimizer(0.01)\n",
    "    # None is the batch size, in placeholder one value can be unspecified\n",
    "    # We can easily change batch size that way.\n",
    "    # Those will be fed in our session in each iteration\n",
    "    x = tf.placeholder(tf.float32, [None, 28*28]) # Each image has shape 28*28=784\n",
    "    y = tf.placeholder(tf.float32, [None, 10]) # 0-9 digits recognition => 10 classes\n",
    "\n",
    "    # 10 columns, each for one digit, essentially we are training 10 logistic regressions\n",
    "    weights = tf.Variable(tf.zeros([28*28, 10])) # 784 weights of logistic regression model, \n",
    "    biases = tf.Variable(tf.zeros([10])) # Biases for each of 0-9 digits\n",
    "\n",
    "    predictions = tf.nn.softmax(tf.matmul(x, weights) + biases) # Logistic Regression using softmax\n",
    "\n",
    "    # Minimize error using cross entropy\n",
    "    cost = tf.reduce_mean(-tf.reduce_sum(y*tf.log(predictions), reduction_indices=1))\n",
    "    # Minimization of cost function using our optimizer\n",
    "    optimization = optimizer.minimize(cost)\n",
    "\n",
    "    # predictions for evaluation, optimization for training, x and y to be fed in session\n",
    "    return predictions, optimization, x, y"
   ]
  },
  {
   "cell_type": "markdown",
   "metadata": {},
   "source": [
    "The output can be represented as a one-hot matrix that can be drawn as:\n",
    "![](images/onehot.png)"
   ]
  },
  {
   "cell_type": "markdown",
   "metadata": {},
   "source": [
    "#### Exercise 2: Get the prediction\n",
    "\n",
    "This exercise consist of two tasks:\n",
    "1. Get the list contains booleans as output variable\n",
    "2. Count the number of properly predicted numbers"
   ]
  },
  {
   "cell_type": "code",
   "execution_count": 50,
   "metadata": {},
   "outputs": [
    {
     "name": "stdout",
     "output_type": "stream",
     "text": [
      "Accuracy: 0.9005\n"
     ]
    }
   ],
   "source": [
    "# Encode targets as one-hot vectors, e.g. 5 will be turned into [0,0,0,0,0,1,0,0,0]\n",
    "y_train, y_test = (pd.get_dummies(y_train).values, pd.get_dummies(y_test).values)\n",
    "\n",
    "# Turn dataset into batches\n",
    "(x_train, y_train) = batch_dataset(x_train, y_train, batch_size=128)\n",
    "\n",
    "# Create our model and get needed operations and tensors inside session\n",
    "predictions, optimization, x, y = create_logistic_regression()\n",
    "output = []\n",
    "with tf.Session() as session:\n",
    "\n",
    "    # Initialize all trainable variables in our model (weights and biases)\n",
    "    session.run(tf.global_variables_initializer())\n",
    "\n",
    "    for epoch in range(10):\n",
    "        # Loop over all batches\n",
    "        for X_batch, y_batch in zip(x_train, y_train):\n",
    "            # we only run optimization\n",
    "            session.run(optimization, feed_dict={x: X_batch, y: y_batch})\n",
    "\n",
    "    # What predictions occured to be correct? We use feedable y value and feedable\n",
    "    # predictions as two separate yet intertwined graphs\n",
    "    correct_predictions = tf.equal(tf.argmax(predictions, 1), tf.argmax(y, 1))\n",
    "    # Calculate accuracy (rememeber it is still a tensor!) by taking the mean\n",
    "    accuracy = tf.reduce_mean(tf.cast(correct_predictions, tf.float32))\n",
    "    # Eval is like session run but more concise\n",
    "    print(\"Accuracy:\", #your code goes here)\n",
    "\n",
    "    ############\n",
    "    # fill here:\n",
    "    ############\n",
    "    output = #"
   ]
  },
  {
   "cell_type": "code",
   "execution_count": 58,
   "metadata": {},
   "outputs": [
    {
     "name": "stdout",
     "output_type": "stream",
     "text": [
      "Output:[ True  True  True ...  True  True  True]. Total number of cases: 10000\n",
      "Number of properly predicted numbers: 9005\n"
     ]
    }
   ],
   "source": [
    "print(\"Output:\" + str(output) +\". Total number of cases: \"+ str(len(output)))\n",
    "\n",
    "### fill here:\n",
    "passed = None\n",
    "###\n",
    "\n",
    "print(\"Number of properly predicted numbers: \"+ passed)"
   ]
  },
  {
   "cell_type": "markdown",
   "metadata": {},
   "source": [
    "## Low-level API\n",
    "\n",
    "Low-level API allows us to do a lot more (distributed computations with granular control, tensor namespaces to names just two features), but it should be noted that __you are encouraged__ to __not use it__ unless you absolutely have to.\n",
    "Reasons should be pretty obvious by now: it is unreadable and really hard to follow, even for the easiest models.\n",
    "\n",
    "Furthermore, if you want to go and learn more, you should read documentation about __MonitoredSession__ and __MonitoredTrainingSession__, as those allow you to get more insight inside learning process (logs were removed from the example in order to leave the code somewhat uncluttered).\n",
    "\n",
    "To solve this trouble __Tensorflow__ included three high level APIs:\n",
    "- __tf.Estimator__: seems to be de facto standard and direction of the project. With Tensorflow 2.0 around the corner it is a pretty safe bet, that this is the one with most chances to be continued in the future.\n",
    "- __tf.Eager__: newest Google's baby. It's construction looks pretty similiar to biggest FOSS rival __PyTorch__. We will not use it here, though I encourage you to do it on your own.\n",
    "- __tf.keras__: actually it is a standalone library as well, acting as a wrapper over low-level libraries like Tensorflow or (unmaintained) Torch (ex biggest library).\n",
    "\n",
    "As Keras became more and more dependent on Tensorflow's developers it eventually got included inside Tensorflow itself. I think it is the easiest and most intuitive out of the three, will be used extensively in this course.\n",
    "\n",
    "Actually there are or were other APIs, but those only further clutter, the already cluttered, image of the library. Worth mentioning is __tf.contrib__ as it's community-centered and you can find various useful models/building-blocks inside.\n",
    "\n",
    "Lot of talk, no code, let's change it and start with __tf.Estimator__. I will show you how to build IRIS dataset classifier, but before that you need to look at overview of how different API components with with __tf.Estimator__:"
   ]
  },
  {
   "cell_type": "markdown",
   "metadata": {
    "collapsed": true
   },
   "source": [
    "## Feed forward neural network\n",
    "\n",
    "In this case we load again the MNIST dataset, but this time without one_hot. We build a neural network with two hidden layers."
   ]
  },
  {
   "cell_type": "code",
   "execution_count": null,
   "metadata": {},
   "outputs": [
    {
     "name": "stdout",
     "output_type": "stream",
     "text": [
      "WARNING:tensorflow:From <ipython-input-38-830cd1fffd0b>:2: read_data_sets (from tensorflow.contrib.learn.python.learn.datasets.mnist) is deprecated and will be removed in a future version.\n",
      "Instructions for updating:\n",
      "Please use alternatives such as official/mnist/dataset.py from tensorflow/models.\n",
      "WARNING:tensorflow:From /usr/local/lib/python3.6/dist-packages/tensorflow/contrib/learn/python/learn/datasets/mnist.py:260: maybe_download (from tensorflow.contrib.learn.python.learn.datasets.base) is deprecated and will be removed in a future version.\n",
      "Instructions for updating:\n",
      "Please write your own downloading logic.\n",
      "WARNING:tensorflow:From /usr/local/lib/python3.6/dist-packages/tensorflow/contrib/learn/python/learn/datasets/mnist.py:262: extract_images (from tensorflow.contrib.learn.python.learn.datasets.mnist) is deprecated and will be removed in a future version.\n",
      "Instructions for updating:\n",
      "Please use tf.data to implement this functionality.\n",
      "Extracting /home/codete/workshop/datasets/mnist/train-images-idx3-ubyte.gz\n"
     ]
    }
   ],
   "source": [
    "from tensorflow.examples.tutorials.mnist import input_data\n",
    "mnist = input_data.read_data_sets(\"/home/codete/workshop/datasets/mnist/\", one_hot=False)"
   ]
  },
  {
   "cell_type": "markdown",
   "metadata": {},
   "source": [
    "The training parameters are similar then in the previous example:"
   ]
  },
  {
   "cell_type": "code",
   "execution_count": 8,
   "metadata": {},
   "outputs": [],
   "source": [
    "learning_rate = 0.1\n",
    "batch_size = 128\n",
    "display_step = 100\n",
    "training_epochs = 1000"
   ]
  },
  {
   "cell_type": "markdown",
   "metadata": {},
   "source": [
    "As the nerwork has two hidden layer, it has also one input and one output layer. We need to set the number of neurons in each layer of our network:"
   ]
  },
  {
   "cell_type": "code",
   "execution_count": 9,
   "metadata": {},
   "outputs": [],
   "source": [
    "n_hidden_1 = 256\n",
    "n_hidden_2 = 256\n",
    "num_input = 784\n",
    "num_classes = 10"
   ]
  },
  {
   "cell_type": "markdown",
   "metadata": {},
   "source": [
    "The architecture of the network needs to be defined. The variable x_dict contains our input images, next we have two layers and the output. "
   ]
  },
  {
   "cell_type": "code",
   "execution_count": 10,
   "metadata": {},
   "outputs": [],
   "source": [
    "def neural_network(x_dict):\n",
    "    # input layer:\n",
    "    x = x_dict['images']\n",
    "      \n",
    "    # hidden layers:\n",
    "    layer_1 = tf.layers.dense(x, n_hidden_1)    \n",
    "    layer_2 = tf.layers.dense(layer_1, n_hidden_2)\n",
    "    \n",
    "    # output layer:\n",
    "    out_layer = tf.layers.dense(layer_2, num_classes)\n",
    "    \n",
    "    return out_layer"
   ]
  },
  {
   "cell_type": "markdown",
   "metadata": {},
   "source": [
    "The model function is the crucial part of a classifier. It takes the features and labels and do the prediction job. \n",
    "\n",
    "#### Exercise 3: Fill the gaps to build the feed forward neural network\n",
    "\n",
    "Fill the gap in three places to build the network:\n",
    "\n",
    "1. Build the neural network that have defined above\n",
    "2. Build the estimator\n",
    "3. Display the accuracy"
   ]
  },
  {
   "cell_type": "code",
   "execution_count": 11,
   "metadata": {},
   "outputs": [],
   "source": [
    "def model_fn(features, labels, mode):\n",
    "    # take our network\n",
    "    logits = # fill the gap here\n",
    "\n",
    "    # do the prediction\n",
    "    pred_classes = tf.argmax(logits, axis=1)\n",
    "    pred_probas = tf.nn.softmax(logits)\n",
    "\n",
    "    # check if we do the prediction or training only\n",
    "    if mode == tf.estimator.ModeKeys.PREDICT:\n",
    "        return None # fill the gap\n",
    "\n",
    "    # loss and optimizer definition\n",
    "    loss_op = tf.reduce_mean(tf.nn.sparse_softmax_cross_entropy_with_logits(\n",
    "        logits=logits, labels=tf.cast(labels, dtype=tf.int32)))\n",
    "    optimizer = tf.train.GradientDescentOptimizer(learning_rate=learning_rate)\n",
    "    train_op = optimizer.minimize(loss_op,\n",
    "                                  global_step=tf.train.get_global_step())\n",
    "\n",
    "    # calculate the accuracy\n",
    "    acc_op = tf.metrics.accuracy(labels=labels, predictions=pred_classes)\n",
    "\n",
    "    # define the estimator\n",
    "    estim_specs = tf.estimator.EstimatorSpec(\n",
    "        mode=mode,\n",
    "        predictions=pred_classes,\n",
    "        loss=loss_op,\n",
    "        train_op=train_op,\n",
    "        eval_metric_ops={'accuracy': acc_op})\n",
    "\n",
    "    return estim_specs"
   ]
  },
  {
   "cell_type": "markdown",
   "metadata": {},
   "source": [
    "We use the model function below to build the model with the estimator. Next, we train the model and evaluate the output."
   ]
  },
  {
   "cell_type": "code",
   "execution_count": 12,
   "metadata": {},
   "outputs": [
    {
     "name": "stdout",
     "output_type": "stream",
     "text": [
      "INFO:tensorflow:Using default config.\n",
      "WARNING:tensorflow:Using temporary folder as model directory: /tmp/tmp6e1alb5i\n",
      "INFO:tensorflow:Using config: {'_model_dir': '/tmp/tmp6e1alb5i', '_tf_random_seed': None, '_save_summary_steps': 100, '_save_checkpoints_steps': None, '_save_checkpoints_secs': 600, '_session_config': allow_soft_placement: true\n",
      "graph_options {\n",
      "  rewrite_options {\n",
      "    meta_optimizer_iterations: ONE\n",
      "  }\n",
      "}\n",
      ", '_keep_checkpoint_max': 5, '_keep_checkpoint_every_n_hours': 10000, '_log_step_count_steps': 100, '_train_distribute': None, '_device_fn': None, '_protocol': None, '_eval_distribute': None, '_experimental_distribute': None, '_service': None, '_cluster_spec': <tensorflow.python.training.server_lib.ClusterSpec object at 0x7f0180b51f60>, '_task_type': 'worker', '_task_id': 0, '_global_id_in_cluster': 0, '_master': '', '_evaluation_master': '', '_is_chief': True, '_num_ps_replicas': 0, '_num_worker_replicas': 1}\n",
      "INFO:tensorflow:Calling model_fn.\n",
      "INFO:tensorflow:Done calling model_fn.\n",
      "INFO:tensorflow:Create CheckpointSaverHook.\n",
      "INFO:tensorflow:Graph was finalized.\n",
      "INFO:tensorflow:Running local_init_op.\n",
      "INFO:tensorflow:Done running local_init_op.\n",
      "INFO:tensorflow:Saving checkpoints for 0 into /tmp/tmp6e1alb5i/model.ckpt.\n",
      "INFO:tensorflow:loss = 2.512175, step = 1\n",
      "INFO:tensorflow:global_step/sec: 129.865\n",
      "INFO:tensorflow:loss = 0.2663415, step = 101 (0.778 sec)\n",
      "INFO:tensorflow:global_step/sec: 153.573\n",
      "INFO:tensorflow:loss = 0.35456067, step = 201 (0.644 sec)\n",
      "INFO:tensorflow:global_step/sec: 168.034\n",
      "INFO:tensorflow:loss = 0.3282741, step = 301 (0.595 sec)\n",
      "INFO:tensorflow:global_step/sec: 162.611\n",
      "INFO:tensorflow:loss = 0.22147281, step = 401 (0.619 sec)\n",
      "INFO:tensorflow:global_step/sec: 151.282\n",
      "INFO:tensorflow:loss = 0.31096566, step = 501 (0.657 sec)\n",
      "INFO:tensorflow:global_step/sec: 157.804\n",
      "INFO:tensorflow:loss = 0.2983859, step = 601 (0.636 sec)\n",
      "INFO:tensorflow:global_step/sec: 160.834\n",
      "INFO:tensorflow:loss = 0.42973384, step = 701 (0.624 sec)\n",
      "INFO:tensorflow:global_step/sec: 166.82\n",
      "INFO:tensorflow:loss = 0.27890998, step = 801 (0.596 sec)\n",
      "INFO:tensorflow:global_step/sec: 154.541\n",
      "INFO:tensorflow:loss = 0.23659655, step = 901 (0.650 sec)\n",
      "INFO:tensorflow:Saving checkpoints for 1000 into /tmp/tmp6e1alb5i/model.ckpt.\n",
      "INFO:tensorflow:Loss for final step: 0.17878151.\n",
      "INFO:tensorflow:Calling model_fn.\n",
      "INFO:tensorflow:Done calling model_fn.\n",
      "INFO:tensorflow:Starting evaluation at 2018-11-18-13:23:02\n",
      "INFO:tensorflow:Graph was finalized.\n",
      "INFO:tensorflow:Restoring parameters from /tmp/tmp6e1alb5i/model.ckpt-1000\n",
      "INFO:tensorflow:Running local_init_op.\n",
      "INFO:tensorflow:Done running local_init_op.\n",
      "INFO:tensorflow:Finished evaluation at 2018-11-18-13:23:02\n",
      "INFO:tensorflow:Saving dict for global step 1000: accuracy = 0.9135, global_step = 1000, loss = 0.30113274\n",
      "INFO:tensorflow:Saving 'checkpoint_path' summary for global step 1000: /tmp/tmp6e1alb5i/model.ckpt-1000\n",
      "Testing Accuracy: 0.9135\n"
     ]
    }
   ],
   "source": [
    "model = tf.estimator.Estimator(model_fn)\n",
    "\n",
    "input_fn = tf.estimator.inputs.numpy_input_fn(\n",
    "    x={'images': mnist.train.images}, y=mnist.train.labels,\n",
    "    batch_size=batch_size, num_epochs=None, shuffle=True)\n",
    "\n",
    "# train the model:\n",
    "model.train(input_fn, steps=training_epochs)\n",
    "\n",
    "# evaluate the model\n",
    "input_fn = tf.estimator.inputs.numpy_input_fn(\n",
    "    x={'images': mnist.test.images}, y=mnist.test.labels,\n",
    "    batch_size=batch_size, shuffle=False)\n",
    "\n",
    "e = model.evaluate(input_fn)\n",
    "\n",
    "### Fill here:\n",
    "print(\"Accuracy: \")"
   ]
  },
  {
   "cell_type": "markdown",
   "metadata": {},
   "source": [
    "## Keras\n",
    "\n",
    "Keras is a high level frameworks with a backend on Tensorflow. It's easier to build neural networks with Keras when you are a beginner as there is less code needed. We build a network with layers. A FNN network can be implemented with less code:"
   ]
  },
  {
   "cell_type": "code",
   "execution_count": 12,
   "metadata": {},
   "outputs": [
    {
     "name": "stdout",
     "output_type": "stream",
     "text": [
      "Epoch 1/10\n",
      "60000/60000 [==============================] - 7s 114us/step - loss: 0.2602 - acc: 0.9245\n",
      "Epoch 2/10\n",
      "60000/60000 [==============================] - 6s 92us/step - loss: 0.0966 - acc: 0.9710\n",
      "Epoch 3/10\n",
      "60000/60000 [==============================] - 7s 109us/step - loss: 0.0626 - acc: 0.9806\n",
      "Epoch 4/10\n",
      "60000/60000 [==============================] - 6s 104us/step - loss: 0.0438 - acc: 0.9863\n",
      "Epoch 5/10\n",
      "60000/60000 [==============================] - 6s 96us/step - loss: 0.0340 - acc: 0.9890\n",
      "Epoch 6/10\n",
      "60000/60000 [==============================] - 6s 103us/step - loss: 0.0242 - acc: 0.9919\n",
      "Epoch 7/10\n",
      "60000/60000 [==============================] - 6s 97us/step - loss: 0.0218 - acc: 0.9926\n",
      "Epoch 8/10\n",
      "60000/60000 [==============================] - 6s 98us/step - loss: 0.0163 - acc: 0.9946\n",
      "Epoch 9/10\n",
      "60000/60000 [==============================] - 6s 99us/step - loss: 0.0137 - acc: 0.9956\n",
      "Epoch 10/10\n",
      "60000/60000 [==============================] - 6s 95us/step - loss: 0.0132 - acc: 0.9956\n",
      "10000/10000 [==============================] - 1s 67us/step\n",
      "\n",
      "acc: 97.86%\n"
     ]
    }
   ],
   "source": [
    "from keras.models import Sequential\n",
    "from keras.layers import Dense\n",
    "from tensorflow.examples.tutorials.mnist import input_data\n",
    "from keras import utils\n",
    "\n",
    "num_classes = 10    \n",
    "\n",
    "(x_train, y_train), (x_test, y_test) = prepare_dataset()\n",
    "\n",
    "y_train = utils.to_categorical(y_train, num_classes)\n",
    "y_test = utils.to_categorical(y_test, num_classes)\n",
    "\n",
    "model = Sequential()\n",
    "model.add(Dense(256, activation='relu', input_shape=(784,)))\n",
    "model.add(Dense(256, activation='relu'))\n",
    "model.add(Dense(num_classes, activation='softmax'))\n",
    "model.compile(loss='categorical_crossentropy', optimizer='adam', metrics=['accuracy'])\n",
    "model.fit(x_train, y_train, epochs=10, batch_size=128)\n",
    "\n",
    "scores = model.evaluate(x_test, y_test)\n",
    "print(\"\\n%s: %.2f%%\" % (model.metrics_names[1], scores[1]*100))"
   ]
  },
  {
   "cell_type": "markdown",
   "metadata": {},
   "source": [
    "#### Exercise 4: Change the network to be a recurrent neural network\n",
    "\n",
    "Please add a RNN layer using ```SimpleRNN``` layer and relu activation function."
   ]
  },
  {
   "cell_type": "code",
   "execution_count": null,
   "metadata": {},
   "outputs": [],
   "source": [
    "from keras.models import Sequential\n",
    "from keras.layers import Dense, Activation\n",
    "from keras.layers import SimpleRNN\n",
    "from keras import utils\n",
    "from keras import initializers\n",
    "from keras.optimizers import RMSprop\n",
    "\n",
    "num_classes = 10    \n",
    "learning_rate = 0.001\n",
    "\n",
    "(x_train, y_train), (x_test, y_test) = prepare_dataset()\n",
    "\n",
    "y_train = utils.to_categorical(y_train, num_classes)\n",
    "y_test = utils.to_categorical(y_test, num_classes)\n",
    "\n",
    "x_train = x_train.reshape(x_train.shape[0],x_train.shape[1],1)\n",
    "x_test =  x_test.reshape(x_test.shape[0],x_test.shape[1],1)\n",
    "\n",
    "model = Sequential()\n",
    "## add your code here:\n",
    "model.add() # fill the gap\n",
    "model.add(Dense(num_classes))\n",
    "model.add(Activation('softmax'))\n",
    "rmsprop = RMSprop(lr=learning_rate)\n",
    "model.compile(loss='categorical_crossentropy', optimizer=rmsprop, metrics=['accuracy'])\n",
    "model.fit(x_train, y_train, epochs=10, batch_size=32)\n",
    "\n",
    "scores = model.evaluate(x_test, y_test)\n",
    "print(\"\\n%s: %.2f%%\" % (model.metrics_names[1], scores[1]*100))"
   ]
  },
  {
   "cell_type": "code",
   "execution_count": 49,
   "metadata": {},
   "outputs": [
    {
     "name": "stdout",
     "output_type": "stream",
     "text": [
      "(60000, 784, 1)\n",
      "(784, 1)\n"
     ]
    }
   ],
   "source": [
    "print(x_train.shape)\n",
    "print(x_train.shape[1:])"
   ]
  }
 ],
 "metadata": {
  "kernelspec": {
   "display_name": "Python 3",
   "language": "python",
   "name": "python3"
  },
  "language_info": {
   "codemirror_mode": {
    "name": "ipython",
    "version": 3
   },
   "file_extension": ".py",
   "mimetype": "text/x-python",
   "name": "python",
   "nbconvert_exporter": "python",
   "pygments_lexer": "ipython3",
   "version": "3.6.8"
  }
 },
 "nbformat": 4,
 "nbformat_minor": 2
}
