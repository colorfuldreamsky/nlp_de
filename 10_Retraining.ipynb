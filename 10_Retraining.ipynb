{
 "cells": [
  {
   "cell_type": "markdown",
   "metadata": {},
   "source": [
    "# Retraining models\n",
    "\n",
    "In this section we learn how to retrain our models with Keras. We start with a simple example using linear regression and go next to a more complex example of a VGG network. The retraining is about updating our current model with new datasets and train it again. It's crucial to use the same weight that we base on while retraining the model. The figure below gives a general overview of how it works, where the old weight matrix comes from our previous training. The goal of the retraining is to get a better accuracy and generalize better.\n"
   ]
  },
  {
   "cell_type": "markdown",
   "metadata": {},
   "source": [
    "## Simple retrain\n",
    "\n",
    "We use linear regression and build a model to use it later for retraining."
   ]
  },
  {
   "cell_type": "code",
   "execution_count": 11,
   "metadata": {},
   "outputs": [],
   "source": [
    "import numpy as np\n",
    "import pandas as pd\n",
    "import matplotlib.pyplot as plt\n",
    "\n",
    "from keras.layers import Dense\n",
    "from keras.models import Sequential\n",
    "from keras.optimizers import SGD\n",
    "\n",
    "\n",
    "DOMAIN = np.linspace(0, 20, 40)\n",
    "UPDATES = [\n",
    "    (2, 0),\n",
    "    (2.2, 0.75)\n",
    "]\n",
    "\n",
    "def func(level):\n",
    "    return UPDATES[level][0] * DOMAIN + UPDATES[level][1] + (1 + level) * np.random.randn(DOMAIN.shape[0])\n",
    "\n",
    "X_1 = DOMAIN\n",
    "X_2 = DOMAIN\n",
    "X_FULL = np.concatenate([X_1, X_2])\n",
    "\n",
    "Y_1 = func(0)\n",
    "Y_2 = func(1)\n",
    "Y_FULL = np.concatenate([Y_1, Y_2])\n",
    "\n",
    "\n",
    "def create_model():\n",
    "    # This is equivalent to linear regression model\n",
    "    model = Sequential()\n",
    "    model.add(Dense(units=1, activation='linear', input_dim=1))\n",
    "    optimizer = SGD(lr=0.001)\n",
    "    model.compile(loss='mse', optimizer=optimizer)\n",
    "    return model\n",
    "\n",
    "\n",
    "def get_coefficients(model):\n",
    "    a, b = model.layers[0].get_weights()\n",
    "    return a, b "
   ]
  },
  {
   "cell_type": "code",
   "execution_count": 12,
   "metadata": {},
   "outputs": [
    {
     "name": "stdout",
     "output_type": "stream",
     "text": [
      "[ 0.99773654  1.24932513  0.21503051  3.30115574  4.26670311  4.24251472\n",
      "  7.43188161  6.4694828   9.858227   10.83249936 11.05254488 12.53795006\n",
      " 13.91032472 13.21747229 13.90872635 14.54695844 16.11316904 17.49768872\n",
      " 18.11419354 20.93431595 19.92732892 22.02433391 23.01100413 23.08551814\n",
      " 23.53189122 26.90669986 26.58032572 27.89739769 27.6869462  26.88941167\n",
      " 30.29745599 31.11954592 33.2975642  33.5129487  32.68066888 35.968079\n",
      " 37.58648149 37.27696757 39.72321155 40.3499116 ]\n"
     ]
    }
   ],
   "source": [
    "print(func(0))"
   ]
  },
  {
   "cell_type": "markdown",
   "metadata": {},
   "source": [
    "Let's visualize our dataset"
   ]
  },
  {
   "cell_type": "code",
   "execution_count": 2,
   "metadata": {},
   "outputs": [
    {
     "data": {
      "text/plain": [
       "<matplotlib.collections.PathCollection at 0x7f99505556d8>"
      ]
     },
     "execution_count": 2,
     "metadata": {},
     "output_type": "execute_result"
    },
    {
     "data": {
      "image/png": "[encoded data removed]",
      "text/plain": [
       "<Figure size 432x288 with 1 Axes>"
      ]
     },
     "metadata": {},
     "output_type": "display_data"
    }
   ],
   "source": [
    "plt.scatter(X_1, Y_1, c='b')"
   ]
  },
  {
   "cell_type": "markdown",
   "metadata": {},
   "source": [
    "Train the model. Check what loss we have at the end."
   ]
  },
  {
   "cell_type": "code",
   "execution_count": 3,
   "metadata": {},
   "outputs": [
    {
     "name": "stdout",
     "output_type": "stream",
     "text": [
      "Epoch 1/5\n",
      "40/40 [==============================] - 0s 12ms/step - loss: 1469.7293\n",
      "Epoch 2/5\n",
      "40/40 [==============================] - 0s 145us/step - loss: 365.1695\n",
      "Epoch 3/5\n",
      "40/40 [==============================] - 0s 234us/step - loss: 105.0489\n",
      "Epoch 4/5\n",
      "40/40 [==============================] - 0s 150us/step - loss: 29.8182\n",
      "Epoch 5/5\n",
      "40/40 [==============================] - 0s 874us/step - loss: 10.3691\n"
     ]
    },
    {
     "data": {
      "text/plain": [
       "<keras.callbacks.History at 0x7f995057de80>"
      ]
     },
     "execution_count": 3,
     "metadata": {},
     "output_type": "execute_result"
    }
   ],
   "source": [
    "model = create_model()\n",
    "model.fit(X_1, Y_1, epochs=5)"
   ]
  },
  {
   "cell_type": "markdown",
   "metadata": {},
   "source": [
    "Visualize dataset (blue) and learned function (red)"
   ]
  },
  {
   "cell_type": "code",
   "execution_count": 4,
   "metadata": {},
   "outputs": [
    {
     "data": {
      "text/plain": [
       "<matplotlib.collections.PathCollection at 0x7f99901485c0>"
      ]
     },
     "execution_count": 4,
     "metadata": {},
     "output_type": "execute_result"
    },
    {
     "data": {
      "image/png": "[encoded data removed]",
      "text/plain": [
       "<Figure size 432x288 with 1 Axes>"
      ]
     },
     "metadata": {},
     "output_type": "display_data"
    }
   ],
   "source": [
    "a, b = get_coefficients(model)\n",
    "plt.scatter(X_1, Y_1, c='b')\n",
    "plt.scatter(X_1, a * X_1 + b, c='r')"
   ]
  },
  {
   "cell_type": "markdown",
   "metadata": {},
   "source": [
    "New data arrived. Let's check how it looks like."
   ]
  },
  {
   "cell_type": "code",
   "execution_count": 5,
   "metadata": {},
   "outputs": [
    {
     "data": {
      "text/plain": [
       "<matplotlib.collections.PathCollection at 0x7f994c0836d8>"
      ]
     },
     "execution_count": 5,
     "metadata": {},
     "output_type": "execute_result"
    },
    {
     "data": {
      "image/png": "[encoded data removed]",
      "text/plain": [
       "<Figure size 432x288 with 1 Axes>"
      ]
     },
     "metadata": {},
     "output_type": "display_data"
    }
   ],
   "source": [
    "plt.scatter(X_FULL, Y_FULL, c='b')"
   ]
  },
  {
   "cell_type": "markdown",
   "metadata": {},
   "source": [
    "Does our function fit?"
   ]
  },
  {
   "cell_type": "code",
   "execution_count": 6,
   "metadata": {},
   "outputs": [
    {
     "data": {
      "text/plain": [
       "<matplotlib.collections.PathCollection at 0x7f994c0421d0>"
      ]
     },
     "execution_count": 6,
     "metadata": {},
     "output_type": "execute_result"
    },
    {
     "data": {
      "image/png": "[encoded data removed]",
      "text/plain": [
       "<Figure size 432x288 with 1 Axes>"
      ]
     },
     "metadata": {},
     "output_type": "display_data"
    }
   ],
   "source": [
    "a, b = get_coefficients(model)\n",
    "plt.scatter(X_FULL, Y_FULL, c='b')\n",
    "plt.scatter(X_1, a * X_1 + b, c='r')"
   ]
  },
  {
   "cell_type": "markdown",
   "metadata": {},
   "source": [
    "Let's evaluate our function on updated dataset. How the error changed?"
   ]
  },
  {
   "cell_type": "code",
   "execution_count": 7,
   "metadata": {},
   "outputs": [
    {
     "name": "stdout",
     "output_type": "stream",
     "text": [
      "80/80 [==============================] - 0s 504us/step\n"
     ]
    },
    {
     "data": {
      "text/plain": [
       "14.570864295959472"
      ]
     },
     "execution_count": 7,
     "metadata": {},
     "output_type": "execute_result"
    }
   ],
   "source": [
    "model.evaluate(X_FULL, Y_FULL)"
   ]
  },
  {
   "cell_type": "markdown",
   "metadata": {},
   "source": [
    "### Exercise 1: Retrain linear regression model\n",
    "\n",
    "Let's retrain the model! Remember to use only new data while retraining. New data is available at `X_2` and `Y_2`"
   ]
  },
  {
   "cell_type": "code",
   "execution_count": null,
   "metadata": {},
   "outputs": [],
   "source": [
    "# your code goes here"
   ]
  },
  {
   "cell_type": "markdown",
   "metadata": {},
   "source": [
    "## Transfer learning and retrain\n",
    "\n",
    "In this part we take a more complex modelof VGG and retrain it. We use import required libraries."
   ]
  },
  {
   "cell_type": "code",
   "execution_count": null,
   "metadata": {},
   "outputs": [],
   "source": [
    "import numpy as np\n",
    "import scipy.misc as misc\n",
    "\n",
    "from keras.applications import VGG16\n",
    "from keras.datasets import cifar10\n",
    "from keras.layers import Dense, Dropout, Flatten, Conv2D, MaxPool2D\n",
    "from keras.models import Model, Sequential\n",
    "from keras.optimizers import RMSprop\n",
    "from keras.utils import to_categorical"
   ]
  },
  {
   "cell_type": "markdown",
   "metadata": {},
   "source": [
    "We need to setup a few parameters and get the CIFAR10 dataset."
   ]
  },
  {
   "cell_type": "code",
   "execution_count": null,
   "metadata": {},
   "outputs": [],
   "source": [
    "IMG_SIZE = 48\n",
    "CLASSES = 3\n",
    "MAX_FEATURE = 255\n",
    "FIRST_ROUND_SAMPLES = 10000\n",
    "\n",
    "(_x_train, y_train), (_x_test, y_test) = cifar10.load_data()\n",
    "y_train = y_train.squeeze()\n",
    "y_test = y_test.squeeze()\n",
    "\n",
    "train_idx = [y_train < CLASSES]\n",
    "test_idx = [y_test < CLASSES]\n",
    "\n",
    "_x_train = _x_train[train_idx]\n",
    "y_train = y_train[train_idx]\n",
    "_x_test = _x_test[test_idx]\n",
    "y_test = y_test[test_idx]\n",
    "\n",
    "x_train = np.zeros((_x_train.shape[0], IMG_SIZE, IMG_SIZE, _x_train.shape[-1]))\n",
    "for idx, img in enumerate(_x_train):\n",
    "    x_train[idx, :, :, :] = misc.imresize(img, (IMG_SIZE, IMG_SIZE))\n",
    "x_train /= MAX_FEATURE\n",
    "y_train = to_categorical(y_train)\n",
    "\n",
    "x_retrain = x_train[FIRST_ROUND_SAMPLES:]\n",
    "x_train = x_train[:FIRST_ROUND_SAMPLES]\n",
    "y_retrain = y_train[FIRST_ROUND_SAMPLES:]\n",
    "y_train = y_train[:FIRST_ROUND_SAMPLES]\n",
    "\n",
    "x_test = np.zeros((_x_test.shape[0], IMG_SIZE, IMG_SIZE, _x_test.shape[-1]))\n",
    "for idx, img in enumerate(_x_test):\n",
    "    x_test[idx, :, :, :] = misc.imresize(img, (IMG_SIZE, IMG_SIZE))\n",
    "x_test /= MAX_FEATURE\n",
    "y_test = to_categorical(y_test)"
   ]
  },
  {
   "cell_type": "markdown",
   "metadata": {},
   "source": [
    "### Exercise 2: Retrain the VGG16 network.\n",
    "\n",
    "Tasks:\n",
    "\n",
    "1. Freeze convolutional layers. See documentation for details.\n",
    "2. Add new classification layers on top of VGG.\n",
    "3. Use `x_retrain` and `y_retrain` to update your model and improve its accuracy. You can try to change optimizer and see if it will help."
   ]
  },
  {
   "cell_type": "code",
   "execution_count": null,
   "metadata": {},
   "outputs": [],
   "source": [
    "vgg_model = VGG16(weights='imagenet', include_top=False, input_shape=(IMG_SIZE, IMG_SIZE, 3))\n",
    "\n",
    "\n",
    "for layer in vgg_model.layers:\n",
    "    # trainable\n",
    "    raise NotImplemented('You need to freeze VGG weights') ### 1\n",
    "\n",
    "### 2\n",
    "x = vgg_model.output\n",
    "# Flatten\n",
    "# Dense 256 relu\n",
    "# Dropout\n",
    "# Dense 128 relu\n",
    "# Droupout\n",
    "# Dense 3 softmax\n",
    "raise NotImplemented('You need to create clasiffication on top of VGG')\n",
    "predictions = ???\n",
    "###\n",
    "\n",
    "loss='categorical_crossentropy'\n",
    "\n",
    "model_final = Model(input=vgg_model.input, output=predictions)\n",
    "raise NotImplemented('You need to compile model, choose optimizer by yourself.')\n",
    "# compile\n",
    "# optimizer\n",
    "model_final.fit(x_train, y_train, batch_size=32)\n",
    "\n",
    "loss, accuracy = model_final.evaluate(x_test, y_test)\n",
    "print(f'accuracy on test set: {accuracy * 100}%')\n",
    "\n",
    "final_model.save('transfer_learning_keras_model.h5')"
   ]
  },
  {
   "cell_type": "markdown",
   "metadata": {},
   "source": [
    "New data arrived! Fill the gap below."
   ]
  },
  {
   "cell_type": "code",
   "execution_count": null,
   "metadata": {},
   "outputs": [],
   "source": [
    "from keras.models import load_model\n",
    "\n",
    "saved_model = load_model('transfer_learning_keras_model.h5')\n",
    "\n",
    "## 3 \n",
    "# fit\n",
    "##\n",
    "\n",
    "loss, accuracy = saved_model.evaluate(x_test, y_test)\n",
    "print(f'accuracy on test set: {accuracy * 100}%')"
   ]
  }
 ],
 "metadata": {
  "kernelspec": {
   "display_name": "Python 3",
   "language": "python",
   "name": "python3"
  },
  "language_info": {
   "codemirror_mode": {
    "name": "ipython",
    "version": 3
   },
   "file_extension": ".py",
   "mimetype": "text/x-python",
   "name": "python",
   "nbconvert_exporter": "python",
   "pygments_lexer": "ipython3",
   "version": "3.6.8"
  }
 },
 "nbformat": 4,
 "nbformat_minor": 2
}
