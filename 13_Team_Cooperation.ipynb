{
 "cells": [
  {
   "cell_type": "markdown",
   "metadata": {},
   "source": [
    "## Team cooperation exercise\n",
    "\n",
    "Create a Rasa based chatbot, which will be able to handle customers writing to the restaurant, looking for information and ordering the food. We should use the restaurant on Webex Teams messaging system, and connect the profile to our application. \n",
    "Chatbot needs to be able to handle those interactions:\n",
    "- Answer the question if the restaurant is open on a given date/time,\n",
    "- List the menu items,\n",
    "- Place an order - here we expect a possibility that the order will contain items not listed on the menu, or additional requests (like ‘without the tomatoes’).\n",
    "- For each of our main intents (mentioned above), it is required to write a simple generator, to create the training dataset with some common typos and language mistakes. Please feel free to choose the cases you want to handle. Apart from those, we should include the secondary intents, like greeting or farewell, to be handled as well.\n",
    "\n",
    "During the exercise you may find the following Rasa functionalities useful:\n",
    "- https://rasa.com/docs/core/slots/ - for gathering user provided information,\n",
    "- https://legacy-docs.rasa.com/docs/core/0.12.3/customactions/ - for running some custom pieces of code in response to user input (use case: communication to 3rd party services)."
   ]
  },
  {
   "cell_type": "markdown",
   "metadata": {},
   "source": [
    "### Data"
   ]
  },
  {
   "cell_type": "code",
   "execution_count": null,
   "metadata": {},
   "outputs": [],
   "source": [
    "“opening_hours.json”\n",
    "{\n",
    " \"items\": \n",
    "    {\n",
    "      \"Monday\": {\"open\":8,\"close\":20 },\n",
    "      \"Tuesday\": {\"open\":8,\"close\":20 },\n",
    "      \"Wednesday\": {\"open\":10,\"close\":16 },\n",
    "      \"Thursday\": {\"open\":8,\"close\":20 },\n",
    "      \"Friday\": {\"open\":8,\"close\":20 },\n",
    "      \"Saturday\": {\"open\":10,\"close\":16 },\n",
    "      \"Sunday\": {\"open\":0,\"close\":0 },\n",
    "    }  \n",
    "}\n",
    "\n",
    "\n",
    "“menu.json”\n",
    "{\n",
    "  \"items\": [\n",
    "    {\n",
    "      \"name\": \"Lasagne\",\n",
    "      \"price\": 16,\n",
    "      \"preparation_time\": 1\n",
    "    },\n",
    "    {\n",
    "      \"name\": \"Pizza\",\n",
    "      \"price\": 12,\n",
    "      \"preparation_time\": 0.5\n",
    "    },\n",
    "    {\n",
    "      \"name\": \"Hot-dog\",\n",
    "      \"price\": 4,\n",
    "      \"preparation_time\": 0.1\n",
    "    },\n",
    "    {\n",
    "      \"name\": \"Burger\",\n",
    "      \"price\": 12.5,\n",
    "      \"preparation_time\": 0.2\n",
    "    },\n",
    "    {\n",
    "      \"name\": \"Spaghetti Carbonara\",\n",
    "      \"price\": 15,\n",
    "      \"preparation_time\": 0.5\n",
    "    },\n",
    "    {\n",
    "      \"name\": \"Tiramisu\",\n",
    "      \"price\": 11,\n",
    "      \"preparation_time\": 0.15\n",
    "    },\n",
    "  ]\n",
    "}"
   ]
  },
  {
   "cell_type": "markdown",
   "metadata": {},
   "source": [
    "### Requirements\n",
    "\n",
    "1. A chatbot with the trained ability to handle at least 3 ways to phrase those intents. \n",
    "2. Information about opening hours and menu items should be fetched from the configuration file.\n",
    "3. Chatbot needs to process the order and confirm purchased meals, as well as additional requests.\n",
    "4. Chatbot needs to confirm when the meal will be available as a pick-up in the restaurant.\n",
    "5. Chatbot code should be deployed to one of the AWS instance with Jenkins.\n",
    "6. It should work with Webex Teams.\n",
    "7. (optional) Chatbot should ask and confirm the delivery address instead of pick-up option."
   ]
  }
 ],
 "metadata": {
  "kernelspec": {
   "display_name": "Python 3",
   "language": "python",
   "name": "python3"
  },
  "language_info": {
   "codemirror_mode": {
    "name": "ipython",
    "version": 3
   },
   "file_extension": ".py",
   "mimetype": "text/x-python",
   "name": "python",
   "nbconvert_exporter": "python",
   "pygments_lexer": "ipython3",
   "version": "3.6.8"
  }
 },
 "nbformat": 4,
 "nbformat_minor": 2
}
